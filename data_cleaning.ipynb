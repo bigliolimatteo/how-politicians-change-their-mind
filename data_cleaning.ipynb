{
 "cells": [
  {
   "cell_type": "markdown",
   "metadata": {},
   "source": [
    "# Data Cleaning"
   ]
  },
  {
   "cell_type": "markdown",
   "metadata": {},
   "source": [
    "## Importing libraries and data"
   ]
  },
  {
   "cell_type": "code",
   "execution_count": 2,
   "metadata": {},
   "outputs": [],
   "source": [
    "import json\n",
    "import os"
   ]
  },
  {
   "cell_type": "code",
   "execution_count": 13,
   "metadata": {},
   "outputs": [],
   "source": [
    "# TODO remove useless information and keep just text/date\n",
    "RELEVANT_FIELDS = [\"text\", \"created_at\"]\n",
    "\n",
    "def read_data(input_directory: str):\n",
    "    input_data = dict()\n",
    "\n",
    "    for filename in os.listdir(input_directory):\n",
    "        if filename.endswith(\"json\"):\n",
    "            politician_name = filename.split(\".\")[0]\n",
    "\n",
    "            file_location = os.path.join(input_directory, filename)\n",
    "            file = open(file_location, \"r\")\n",
    "\n",
    "            tweets = json.load(file)[\"tweets\"]\n",
    "\n",
    "            input_data[politician_name] = tweets\n",
    "        else: \n",
    "            raise Exception(f\"Input file {filename} has a non supported format.\")\n",
    "    return input_data"
   ]
  },
  {
   "cell_type": "code",
   "execution_count": 15,
   "metadata": {},
   "outputs": [],
   "source": [
    "input_data = read_data(\"data\")"
   ]
  },
  {
   "cell_type": "markdown",
   "metadata": {},
   "source": [
    "## Defining cleaning function"
   ]
  },
  {
   "cell_type": "markdown",
   "metadata": {},
   "source": [
    "- Remove stopwords\n",
    "- Combine tweets that are part1 and part2\n",
    "- Remove tweets after a deadline (e.g. the midnight of the election)\n",
    "- Remove tweets before a deadline (e.g. max 3 months old) -> this is needed because we need to compare similar timeframes\n",
    "- tokenization?\n",
    "- stemming / lemmatization\n"
   ]
  },
  {
   "cell_type": "code",
   "execution_count": null,
   "metadata": {},
   "outputs": [],
   "source": [
    "def clean_data(corpus: list):\n",
    "    # TODO\n",
    "    return corpus"
   ]
  },
  {
   "cell_type": "markdown",
   "metadata": {},
   "source": [
    "## Clean data"
   ]
  },
  {
   "cell_type": "code",
   "execution_count": null,
   "metadata": {},
   "outputs": [],
   "source": [
    "out_data = clean_data(input_data)"
   ]
  }
 ],
 "metadata": {
  "kernelspec": {
   "display_name": "Python 3.9.6 ('.venv': venv)",
   "language": "python",
   "name": "python3"
  },
  "language_info": {
   "codemirror_mode": {
    "name": "ipython",
    "version": 3
   },
   "file_extension": ".py",
   "mimetype": "text/x-python",
   "name": "python",
   "nbconvert_exporter": "python",
   "pygments_lexer": "ipython3",
   "version": "3.9.6"
  },
  "orig_nbformat": 4,
  "vscode": {
   "interpreter": {
    "hash": "5c492f626531da2c8d565f176d5e61f8c6f6c04c28e91cb703c426fba7ae0b62"
   }
  }
 },
 "nbformat": 4,
 "nbformat_minor": 2
}
