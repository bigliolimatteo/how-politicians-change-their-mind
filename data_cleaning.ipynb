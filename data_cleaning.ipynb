{
 "cells": [
  {
   "cell_type": "markdown",
   "metadata": {},
   "source": [
    "# Data Cleaning"
   ]
  },
  {
   "cell_type": "code",
   "execution_count": null,
   "metadata": {},
   "outputs": [],
   "source": [
    "#TODO data analysis esplorativa iniziale \n",
    "# quanti tweet per politico?\n",
    "# quanti like per politico?\n",
    "# quanti retweet?\n",
    "# ...\n",
    "\n",
    "# NOTE that here we also have retweets\n",
    "#for politician in POLITICIANS:\n",
    "#    print(politician + \" \" + str(len([tweet for tweet in date_filtered_data[politician] if \"RT\" not in tweet])))"
   ]
  },
  {
   "cell_type": "markdown",
   "metadata": {},
   "source": [
    "## Importing libraries and data"
   ]
  },
  {
   "cell_type": "code",
   "execution_count": 1,
   "metadata": {},
   "outputs": [],
   "source": [
    "import json\n",
    "import os\n",
    "import re\n",
    "import pandas as pd\n",
    "\n",
    "from datetime import datetime\n",
    "\n",
    "import spacy\n",
    "\n",
    "from sklearn.feature_extraction.text import CountVectorizer\n",
    "from string import punctuation, digits"
   ]
  },
  {
   "cell_type": "code",
   "execution_count": 2,
   "metadata": {},
   "outputs": [],
   "source": [
    "RELEVANT_FIELDS = [\"text\", \"created_at\"]\n",
    "\n",
    "def read_data(input_directory: str):\n",
    "    input_data = dict()\n",
    "\n",
    "    for filename in os.listdir(input_directory):\n",
    "        if filename.endswith(\"json\"):\n",
    "            politician_name = filename.split(\".\")[0]\n",
    "\n",
    "            file_location = os.path.join(input_directory, filename)\n",
    "            file = open(file_location, \"r\")\n",
    "\n",
    "            tweets = json.load(file)[\"tweets\"]\n",
    "\n",
    "            filtered_tweets = [{ key: tweet[key] for key in RELEVANT_FIELDS } for tweet in tweets]\n",
    "\n",
    "            input_data[politician_name] = filtered_tweets\n",
    "            \n",
    "        else: \n",
    "            raise Exception(f\"Input file {filename} has a non supported format.\")\n",
    "    return input_data"
   ]
  },
  {
   "cell_type": "code",
   "execution_count": 4,
   "metadata": {},
   "outputs": [],
   "source": [
    "input_data = read_data(\"data\")"
   ]
  },
  {
   "cell_type": "markdown",
   "metadata": {},
   "source": [
    "## Defining cleaning function"
   ]
  },
  {
   "cell_type": "markdown",
   "metadata": {},
   "source": [
    "- Remove stopwords\n",
    "- Combine tweets that are part1 and part2\n",
    "- DONE Remove tweets after a deadline (e.g. the midnight of the election)\n",
    "- DONE Remove tweets before a deadline (e.g. max 3 months old) -> this is needed because we need to compare similar timeframes\n",
    "- tokenization?\n",
    "- stemming / lemmatization\n"
   ]
  },
  {
   "cell_type": "code",
   "execution_count": null,
   "metadata": {},
   "outputs": [],
   "source": [
    "# TODO do we need to remove digits?\n",
    "# TODO is it bad to split tweets into subsentences? -> TODO join multiple splitted tweets ((2/2))\n",
    "# TODO note that there are tweets related to pics that we dont have\n",
    "# TODO how to manage hashtags and citations (#/@)\n",
    "# TODO create a pipeline funciton to use in pandas distributed-wise"
   ]
  },
  {
   "cell_type": "code",
   "execution_count": 5,
   "metadata": {},
   "outputs": [],
   "source": [
    "# TODO create a pipeline funciton to use in pandas distributed-wise\n",
    "def date_filter(tweet: dict, start_date = datetime(2022,7,22), end_date = datetime(2022,9,25)):\n",
    "    created_at = datetime.strptime(tweet['created_at'], \"%Y-%m-%dT%H:%M:%S.%fZ\")\n",
    "    return created_at >= start_date and created_at < end_date\n",
    "\n",
    "def remove_links(tweet: dict):\n",
    "    return re.sub(r'http\\S+', '', tweet[\"text\"])\n",
    "\n",
    "def is_retweet(tweet: dict):\n",
    "    return tweet[\"text\"].startswith(\"RT @\")\n",
    "\n",
    "def preclean_tweet(tweet: dict):\n",
    "    if date_filter(tweet) and not is_retweet(tweet):\n",
    "        return remove_links(tweet)  \n",
    "    else:\n",
    "        return \"\""
   ]
  },
  {
   "cell_type": "code",
   "execution_count": 8,
   "metadata": {},
   "outputs": [],
   "source": [
    "POLITICIANS = list(input_data.keys())\n",
    "filtered_data = {politician: list(filter(None, [preclean_tweet(tweet) for tweet in input_data[politician]])) for politician in POLITICIANS}"
   ]
  },
  {
   "cell_type": "code",
   "execution_count": null,
   "metadata": {},
   "outputs": [],
   "source": [
    "filtered_data"
   ]
  },
  {
   "cell_type": "code",
   "execution_count": null,
   "metadata": {},
   "outputs": [],
   "source": [
    "# Remove punctuation\n",
    "# Remove stopwords\n",
    "# Lemmatizer/Stemmer\n",
    "# Tokenization"
   ]
  },
  {
   "cell_type": "code",
   "execution_count": 58,
   "metadata": {},
   "outputs": [
    {
     "name": "stderr",
     "output_type": "stream",
     "text": [
      "[nltk_data] Downloading package stopwords to /Users/billy/nltk_data...\n",
      "[nltk_data]   Package stopwords is already up-to-date!\n"
     ]
    }
   ],
   "source": [
    "from nltk.tokenize import TweetTokenizer\n",
    "from collections import defaultdict, Counter\n",
    "from nltk.corpus import stopwords\n",
    "from string import punctuation\n",
    "import nltk\n",
    "\n",
    "nltk.download('stopwords')\n",
    "\n",
    "ITALIAN_PUNCTUATION = punctuation + \"’\" # TODO add readibility\n"
   ]
  },
  {
   "cell_type": "code",
   "execution_count": 44,
   "metadata": {},
   "outputs": [],
   "source": [
    "stopw = set(stopwords.words('italian'))\n",
    "tokenizer = TweetTokenizer()\n",
    "tokenize = lambda text: [word for word in tokenizer.tokenize(text.lower()) \n",
    "                         if word not in ITALIAN_PUNCTUATION and word not in stopw and not word.startswith('http')] "
   ]
  },
  {
   "cell_type": "code",
   "execution_count": 46,
   "metadata": {},
   "outputs": [],
   "source": [
    "tokenized_data = {politician: [tokenize(tweet) for tweet in filtered_data[politician]] for politician in POLITICIANS}"
   ]
  },
  {
   "cell_type": "code",
   "execution_count": 126,
   "metadata": {},
   "outputs": [],
   "source": [
    "# Stemmer\n",
    "\n",
    "from nltk.stem import PorterStemmer, SnowballStemmer\n",
    "\n",
    "# PorterStemmer()\n",
    "# SnowballStemmer('italian')\n",
    "# LancasterStemmer()\n",
    "# RegexpStemmer('ita')\n",
    "\n",
    "stem = lambda tokenized_text, stemmer: [stemmer.stem(word.lower()) for word in tokenized_text] \n",
    "\n",
    "stemmed_data = {politician: [stem(tweet, SnowballStemmer('italian')) for tweet in tokenized_data[politician]] for politician in POLITICIANS}"
   ]
  },
  {
   "cell_type": "code",
   "execution_count": 125,
   "metadata": {},
   "outputs": [
    {
     "name": "stderr",
     "output_type": "stream",
     "text": [
      "[nltk_data] Downloading package wordnet to /Users/billy/nltk_data...\n",
      "[nltk_data]   Package wordnet is already up-to-date!\n",
      "[nltk_data] Downloading package omw-1.4 to /Users/billy/nltk_data...\n",
      "[nltk_data]   Package omw-1.4 is already up-to-date!\n"
     ]
    },
    {
     "ename": "TypeError",
     "evalue": "lemmatize() got an unexpected keyword argument 'lang'",
     "output_type": "error",
     "traceback": [
      "\u001b[0;31m---------------------------------------------------------------------------\u001b[0m",
      "\u001b[0;31mTypeError\u001b[0m                                 Traceback (most recent call last)",
      "Cell \u001b[0;32mIn [125], line 10\u001b[0m\n\u001b[1;32m      6\u001b[0m lemma \u001b[39m=\u001b[39m WordNetLemmatizer()\n\u001b[1;32m      8\u001b[0m lemmatize \u001b[39m=\u001b[39m \u001b[39mlambda\u001b[39;00m tokenized_text, lemmatizer: [lemmatizer\u001b[39m.\u001b[39mlemmatize(word\u001b[39m.\u001b[39mlower(), lang\u001b[39m=\u001b[39m\u001b[39m\"\u001b[39m\u001b[39mita\u001b[39m\u001b[39m\"\u001b[39m) \u001b[39mfor\u001b[39;00m word \u001b[39min\u001b[39;00m tokenized_text] \n\u001b[0;32m---> 10\u001b[0m lemmatized_data \u001b[39m=\u001b[39m {politician: [lemmatize(tweet, WordNetLemmatizer()) \u001b[39mfor\u001b[39;00m tweet \u001b[39min\u001b[39;00m tokenized_data[politician]] \u001b[39mfor\u001b[39;00m politician \u001b[39min\u001b[39;00m POLITICIANS}\n",
      "Cell \u001b[0;32mIn [125], line 10\u001b[0m, in \u001b[0;36m<dictcomp>\u001b[0;34m(.0)\u001b[0m\n\u001b[1;32m      6\u001b[0m lemma \u001b[39m=\u001b[39m WordNetLemmatizer()\n\u001b[1;32m      8\u001b[0m lemmatize \u001b[39m=\u001b[39m \u001b[39mlambda\u001b[39;00m tokenized_text, lemmatizer: [lemmatizer\u001b[39m.\u001b[39mlemmatize(word\u001b[39m.\u001b[39mlower(), lang\u001b[39m=\u001b[39m\u001b[39m\"\u001b[39m\u001b[39mita\u001b[39m\u001b[39m\"\u001b[39m) \u001b[39mfor\u001b[39;00m word \u001b[39min\u001b[39;00m tokenized_text] \n\u001b[0;32m---> 10\u001b[0m lemmatized_data \u001b[39m=\u001b[39m {politician: [lemmatize(tweet, WordNetLemmatizer()) \u001b[39mfor\u001b[39;00m tweet \u001b[39min\u001b[39;00m tokenized_data[politician]] \u001b[39mfor\u001b[39;00m politician \u001b[39min\u001b[39;00m POLITICIANS}\n",
      "Cell \u001b[0;32mIn [125], line 10\u001b[0m, in \u001b[0;36m<listcomp>\u001b[0;34m(.0)\u001b[0m\n\u001b[1;32m      6\u001b[0m lemma \u001b[39m=\u001b[39m WordNetLemmatizer()\n\u001b[1;32m      8\u001b[0m lemmatize \u001b[39m=\u001b[39m \u001b[39mlambda\u001b[39;00m tokenized_text, lemmatizer: [lemmatizer\u001b[39m.\u001b[39mlemmatize(word\u001b[39m.\u001b[39mlower(), lang\u001b[39m=\u001b[39m\u001b[39m\"\u001b[39m\u001b[39mita\u001b[39m\u001b[39m\"\u001b[39m) \u001b[39mfor\u001b[39;00m word \u001b[39min\u001b[39;00m tokenized_text] \n\u001b[0;32m---> 10\u001b[0m lemmatized_data \u001b[39m=\u001b[39m {politician: [lemmatize(tweet, WordNetLemmatizer()) \u001b[39mfor\u001b[39;00m tweet \u001b[39min\u001b[39;00m tokenized_data[politician]] \u001b[39mfor\u001b[39;00m politician \u001b[39min\u001b[39;00m POLITICIANS}\n",
      "Cell \u001b[0;32mIn [125], line 8\u001b[0m, in \u001b[0;36m<lambda>\u001b[0;34m(tokenized_text, lemmatizer)\u001b[0m\n\u001b[1;32m      4\u001b[0m nltk\u001b[39m.\u001b[39mdownload(\u001b[39m'\u001b[39m\u001b[39momw-1.4\u001b[39m\u001b[39m'\u001b[39m)\n\u001b[1;32m      6\u001b[0m lemma \u001b[39m=\u001b[39m WordNetLemmatizer()\n\u001b[0;32m----> 8\u001b[0m lemmatize \u001b[39m=\u001b[39m \u001b[39mlambda\u001b[39;00m tokenized_text, lemmatizer: [lemmatizer\u001b[39m.\u001b[39mlemmatize(word\u001b[39m.\u001b[39mlower(), lang\u001b[39m=\u001b[39m\u001b[39m\"\u001b[39m\u001b[39mita\u001b[39m\u001b[39m\"\u001b[39m) \u001b[39mfor\u001b[39;00m word \u001b[39min\u001b[39;00m tokenized_text] \n\u001b[1;32m     10\u001b[0m lemmatized_data \u001b[39m=\u001b[39m {politician: [lemmatize(tweet, WordNetLemmatizer()) \u001b[39mfor\u001b[39;00m tweet \u001b[39min\u001b[39;00m tokenized_data[politician]] \u001b[39mfor\u001b[39;00m politician \u001b[39min\u001b[39;00m POLITICIANS}\n",
      "Cell \u001b[0;32mIn [125], line 8\u001b[0m, in \u001b[0;36m<listcomp>\u001b[0;34m(.0)\u001b[0m\n\u001b[1;32m      4\u001b[0m nltk\u001b[39m.\u001b[39mdownload(\u001b[39m'\u001b[39m\u001b[39momw-1.4\u001b[39m\u001b[39m'\u001b[39m)\n\u001b[1;32m      6\u001b[0m lemma \u001b[39m=\u001b[39m WordNetLemmatizer()\n\u001b[0;32m----> 8\u001b[0m lemmatize \u001b[39m=\u001b[39m \u001b[39mlambda\u001b[39;00m tokenized_text, lemmatizer: [lemmatizer\u001b[39m.\u001b[39;49mlemmatize(word\u001b[39m.\u001b[39;49mlower(), lang\u001b[39m=\u001b[39;49m\u001b[39m\"\u001b[39;49m\u001b[39mita\u001b[39;49m\u001b[39m\"\u001b[39;49m) \u001b[39mfor\u001b[39;00m word \u001b[39min\u001b[39;00m tokenized_text] \n\u001b[1;32m     10\u001b[0m lemmatized_data \u001b[39m=\u001b[39m {politician: [lemmatize(tweet, WordNetLemmatizer()) \u001b[39mfor\u001b[39;00m tweet \u001b[39min\u001b[39;00m tokenized_data[politician]] \u001b[39mfor\u001b[39;00m politician \u001b[39min\u001b[39;00m POLITICIANS}\n",
      "\u001b[0;31mTypeError\u001b[0m: lemmatize() got an unexpected keyword argument 'lang'"
     ]
    }
   ],
   "source": [
    "from nltk.stem import WordNetLemmatizer\n",
    "\n",
    "nltk.download('wordnet')\n",
    "nltk.download('omw-1.4')\n",
    "\n",
    "lemma = WordNetLemmatizer()\n",
    "\n",
    "lemmatize = lambda tokenized_text, lemmatizer: [lemmatizer.lemmatize(word.lower(), lang=\"ita\") for word in tokenized_text] \n",
    "\n",
    "lemmatized_data = {politician: [lemmatize(tweet, WordNetLemmatizer()) for tweet in tokenized_data[politician]] for politician in POLITICIANS}"
   ]
  },
  {
   "cell_type": "code",
   "execution_count": 64,
   "metadata": {},
   "outputs": [],
   "source": [
    "# cleaned_tweet = list()\n",
    "\n",
    "# for tweet, lemmatized_tweet in zip(filtered_data[\"bonino\"], lemmatized_data[\"bonino\"]):\n",
    "#     cleaned_tweet.append([tweet, lemmatized_tweet])\n",
    "\n",
    "# pd.DataFrame(cleaned_tweet).to_csv(\"TBD/test_lemma.csv\")"
   ]
  },
  {
   "cell_type": "code",
   "execution_count": 77,
   "metadata": {},
   "outputs": [],
   "source": [
    "from sklearn.feature_extraction.text import TfidfVectorizer"
   ]
  },
  {
   "cell_type": "code",
   "execution_count": 143,
   "metadata": {},
   "outputs": [
    {
     "name": "stderr",
     "output_type": "stream",
     "text": [
      "/Users/billy/Documents/university/dse/text_mining_sentiment_analyis/how-politician-change-their-mind/.venv/lib/python3.9/site-packages/sklearn/utils/deprecation.py:87: FutureWarning: Function get_feature_names is deprecated; get_feature_names is deprecated in 1.0 and will be removed in 1.2. Please use get_feature_names_out instead.\n",
      "  warnings.warn(msg, category=FutureWarning)\n"
     ]
    },
    {
     "data": {
      "text/html": [
       "<div>\n",
       "<style scoped>\n",
       "    .dataframe tbody tr th:only-of-type {\n",
       "        vertical-align: middle;\n",
       "    }\n",
       "\n",
       "    .dataframe tbody tr th {\n",
       "        vertical-align: top;\n",
       "    }\n",
       "\n",
       "    .dataframe thead th {\n",
       "        text-align: right;\n",
       "    }\n",
       "</style>\n",
       "<table border=\"1\" class=\"dataframe\">\n",
       "  <thead>\n",
       "    <tr style=\"text-align: right;\">\n",
       "      <th></th>\n",
       "      <th>tfidf</th>\n",
       "    </tr>\n",
       "  </thead>\n",
       "  <tbody>\n",
       "    <tr>\n",
       "      <th>domanivotolega</th>\n",
       "      <td>1.0</td>\n",
       "    </tr>\n",
       "    <tr>\n",
       "      <th>12agosto</th>\n",
       "      <td>0.0</td>\n",
       "    </tr>\n",
       "    <tr>\n",
       "      <th>pieve</th>\n",
       "      <td>0.0</td>\n",
       "    </tr>\n",
       "    <tr>\n",
       "      <th>politico</th>\n",
       "      <td>0.0</td>\n",
       "    </tr>\n",
       "    <tr>\n",
       "      <th>politically</th>\n",
       "      <td>0.0</td>\n",
       "    </tr>\n",
       "    <tr>\n",
       "      <th>...</th>\n",
       "      <td>...</td>\n",
       "    </tr>\n",
       "    <tr>\n",
       "      <th>fallaci</th>\n",
       "      <td>0.0</td>\n",
       "    </tr>\n",
       "    <tr>\n",
       "      <th>fai</th>\n",
       "      <td>0.0</td>\n",
       "    </tr>\n",
       "    <tr>\n",
       "      <th>facoltà</th>\n",
       "      <td>0.0</td>\n",
       "    </tr>\n",
       "    <tr>\n",
       "      <th>facebook</th>\n",
       "      <td>0.0</td>\n",
       "    </tr>\n",
       "    <tr>\n",
       "      <th>𝑢𝑛𝑎</th>\n",
       "      <td>0.0</td>\n",
       "    </tr>\n",
       "  </tbody>\n",
       "</table>\n",
       "<p>2088 rows × 1 columns</p>\n",
       "</div>"
      ],
      "text/plain": [
       "                tfidf\n",
       "domanivotolega    1.0\n",
       "12agosto          0.0\n",
       "pieve             0.0\n",
       "politico          0.0\n",
       "politically       0.0\n",
       "...               ...\n",
       "fallaci           0.0\n",
       "fai               0.0\n",
       "facoltà           0.0\n",
       "facebook          0.0\n",
       "𝑢𝑛𝑎               0.0\n",
       "\n",
       "[2088 rows x 1 columns]"
      ]
     },
     "execution_count": 143,
     "metadata": {},
     "output_type": "execute_result"
    }
   ],
   "source": [
    "test_docs = [' '.join(tweet) for tweet in lemmatized_data_spacy[\"salvini\"]]\n",
    "\n",
    "#   tf–idf\n",
    "tfidf_vectorizer = TfidfVectorizer()\n",
    "X_tfidf = tfidf_vectorizer.fit_transform(test_docs)\n",
    "# Convert to standard matrix\n",
    "X_tfidf.toarray()\n",
    "\n",
    "\n",
    "# get the first vector out (for the first document) \n",
    "first_vector_tfidf=X_tfidf[0] \n",
    " \n",
    "# place tf-idf values in a pandas data frame \n",
    "df = pd.DataFrame(first_vector_tfidf.T.todense()\n",
    "                    , index=tfidf_vectorizer.get_feature_names()\n",
    "                    , columns=[\"tfidf\"]) \n",
    "\n",
    "df.sort_values(by=[\"tfidf\"], ascending=False)"
   ]
  },
  {
   "cell_type": "code",
   "execution_count": 144,
   "metadata": {},
   "outputs": [
    {
     "data": {
      "text/plain": [
       "array([[-0.03454443, -0.03454443, -0.03454443, ..., -0.03454443,\n",
       "        -0.03454443, -0.03454443],\n",
       "       [-0.03454443, -0.03454443, -0.03454443, ..., -0.03454443,\n",
       "        -0.03454443, -0.03454443],\n",
       "       [-0.03454443, -0.03454443, -0.03454443, ..., -0.03454443,\n",
       "        -0.03454443, -0.03454443],\n",
       "       ...,\n",
       "       [-0.03454443, -0.03454443, -0.03454443, ..., -0.03454443,\n",
       "        -0.03454443, -0.03454443],\n",
       "       [-0.03454443, -0.03454443, -0.03454443, ..., -0.03454443,\n",
       "        -0.03454443, -0.03454443],\n",
       "       [-0.03454443, -0.03454443, -0.03454443, ..., -0.03454443,\n",
       "        -0.03454443, -0.03454443]])"
      ]
     },
     "execution_count": 144,
     "metadata": {},
     "output_type": "execute_result"
    }
   ],
   "source": [
    "from sklearn.preprocessing import StandardScaler\n",
    "\n",
    "# Standardization of datasets is a common requirement for many machine learning estimators implemented in scikit-learn; they might behave badly if the individual features do not more or less look like standard normally distributed data: Gaussian with zero mean and unit variance.\n",
    "\n",
    "scaler = StandardScaler()\n",
    "stand_X_tfidf = scaler.fit_transform(X_tfidf.toarray())\n",
    "stand_X_tfidf"
   ]
  },
  {
   "cell_type": "code",
   "execution_count": 145,
   "metadata": {},
   "outputs": [
    {
     "name": "stdout",
     "output_type": "stream",
     "text": [
      "number of components: [1, 2, 3, 4, 5, 6, 7, 8, 9, 10, 11, 12, 13, 14, 15, 16, 17, 18, 19, 20, 21, 22, 23, 24, 25, 26, 27, 28, 29, 30, 31, 32, 33, 34, 35, 36, 37, 38, 39, 40, 41, 42, 43, 44, 45, 46, 47, 48, 49, 50, 51, 52, 53, 54, 55, 56, 57, 58, 59, 60, 61, 62, 63, 64, 65, 66, 67, 68, 69, 70, 71, 72, 73, 74, 75, 76, 77, 78, 79, 80, 81, 82, 83, 84, 85, 86, 87, 88, 89, 90, 91, 92, 93, 94, 95, 96, 97, 98, 99, 100, 101, 102, 103, 104, 105, 106, 107, 108, 109, 110, 111, 112, 113, 114, 115, 116, 117, 118, 119, 120, 121, 122, 123, 124, 125, 126, 127, 128, 129, 130, 131, 132, 133, 134, 135, 136, 137, 138, 139, 140, 141, 142, 143, 144, 145, 146, 147, 148, 149, 150, 151, 152, 153, 154, 155, 156, 157, 158, 159, 160, 161, 162, 163, 164, 165, 166, 167, 168, 169, 170, 171, 172, 173, 174, 175, 176, 177, 178, 179, 180, 181, 182, 183, 184, 185, 186, 187, 188, 189, 190, 191, 192, 193, 194, 195, 196, 197, 198, 199, 200, 201, 202, 203, 204, 205, 206, 207, 208, 209, 210, 211, 212, 213, 214, 215, 216, 217, 218, 219, 220, 221, 222, 223, 224, 225, 226, 227, 228, 229, 230, 231, 232, 233, 234, 235, 236, 237, 238, 239, 240, 241, 242, 243, 244, 245, 246, 247, 248, 249, 250, 251, 252, 253, 254, 255, 256, 257, 258, 259, 260, 261, 262, 263, 264, 265, 266, 267, 268, 269, 270, 271, 272, 273, 274, 275, 276, 277, 278, 279, 280, 281, 282, 283, 284, 285, 286, 287, 288, 289, 290, 291, 292, 293, 294, 295, 296, 297, 298, 299, 300, 301, 302, 303, 304, 305, 306, 307, 308, 309, 310, 311, 312, 313, 314, 315, 316, 317, 318, 319, 320, 321, 322, 323, 324, 325, 326, 327, 328, 329, 330, 331, 332, 333, 334, 335, 336, 337, 338, 339, 340, 341, 342, 343, 344, 345, 346, 347, 348, 349, 350, 351, 352, 353, 354, 355, 356, 357, 358, 359, 360, 361, 362, 363, 364, 365, 366, 367, 368, 369, 370, 371, 372, 373, 374, 375, 376, 377, 378, 379, 380, 381, 382, 383, 384, 385, 386, 387, 388, 389, 390, 391, 392, 393, 394, 395, 396, 397, 398, 399, 400, 401, 402, 403, 404, 405, 406, 407, 408, 409, 410, 411, 412, 413, 414, 415, 416, 417, 418, 419, 420, 421, 422, 423, 424, 425, 426, 427, 428, 429, 430, 431, 432, 433, 434, 435, 436, 437, 438, 439, 440, 441, 442, 443, 444, 445, 446, 447, 448, 449, 450, 451, 452, 453, 454, 455, 456, 457, 458, 459, 460, 461, 462, 463, 464, 465, 466, 467, 468, 469, 470, 471, 472, 473, 474, 475, 476, 477, 478, 479, 480, 481, 482, 483, 484, 485, 486, 487, 488, 489, 490, 491, 492, 493, 494, 495, 496, 497, 498, 499, 500, 501, 502, 503, 504, 505, 506, 507, 508, 509, 510, 511, 512, 513, 514, 515, 516, 517, 518, 519, 520, 521, 522, 523, 524, 525, 526, 527, 528, 529, 530, 531, 532, 533, 534, 535, 536, 537, 538, 539, 540, 541, 542, 543, 544, 545, 546, 547, 548, 549, 550, 551, 552, 553, 554, 555, 556, 557, 558, 559, 560, 561, 562, 563, 564, 565, 566, 567, 568, 569, 570, 571, 572, 573, 574, 575, 576, 577, 578, 579, 580, 581, 582, 583, 584, 585, 586, 587, 588, 589, 590, 591, 592, 593, 594, 595, 596, 597, 598, 599, 600, 601, 602, 603, 604, 605, 606, 607, 608, 609, 610, 611, 612, 613, 614, 615, 616, 617, 618, 619, 620, 621, 622, 623, 624, 625, 626, 627, 628, 629, 630, 631, 632, 633, 634, 635, 636, 637, 638, 639, 640, 641, 642, 643, 644, 645, 646, 647, 648, 649, 650, 651, 652, 653, 654, 655, 656, 657, 658, 659, 660, 661, 662, 663, 664, 665, 666, 667, 668, 669, 670, 671, 672, 673, 674, 675, 676, 677, 678, 679, 680, 681, 682, 683, 684, 685, 686, 687, 688, 689, 690, 691, 692, 693, 694, 695, 696, 697, 698, 699, 700, 701, 702, 703, 704, 705, 706, 707, 708, 709, 710, 711, 712, 713, 714, 715, 716, 717, 718, 719, 720, 721, 722, 723, 724, 725, 726, 727, 728, 729, 730, 731, 732, 733, 734, 735, 736, 737, 738, 739, 740, 741, 742, 743, 744, 745, 746, 747, 748, 749, 750, 751, 752, 753, 754, 755, 756, 757, 758, 759, 760, 761, 762, 763, 764, 765, 766, 767, 768, 769, 770, 771, 772, 773, 774, 775, 776, 777, 778, 779, 780, 781, 782, 783, 784, 785, 786, 787, 788, 789, 790, 791, 792, 793, 794, 795, 796, 797, 798, 799, 800, 801, 802, 803, 804, 805, 806, 807, 808, 809, 810, 811, 812, 813, 814, 815, 816, 817, 818, 819, 820, 821, 822, 823, 824, 825, 826, 827, 828, 829, 830, 831, 832, 833, 834, 835, 836, 837, 838, 839]\n",
      "cumulative explained variance: [0.01112559 0.01657255 0.02184645 0.02696708 0.03139804 0.03565438\n",
      " 0.03968864 0.04367385 0.04755296 0.05141435 0.05525076 0.05905267\n",
      " 0.06277808 0.06650203 0.07021    0.07382258 0.07739767 0.08096884\n",
      " 0.08452906 0.08800996 0.09144984 0.09488282 0.09823081 0.10157072\n",
      " 0.10488334 0.10819109 0.11147548 0.11473246 0.11797132 0.12117491\n",
      " 0.12436468 0.12753642 0.13069375 0.13383426 0.13695084 0.1400551\n",
      " 0.14314287 0.14620217 0.14923055 0.15223361 0.15522254 0.15818524\n",
      " 0.16113757 0.16407998 0.16699443 0.16989698 0.17279117 0.17568006\n",
      " 0.17856116 0.1814287  0.1842685  0.18710276 0.18991777 0.19271666\n",
      " 0.19550456 0.19827847 0.20104562 0.20380334 0.20654963 0.20928618\n",
      " 0.21201405 0.21473587 0.21745233 0.22016617 0.22285828 0.2255444\n",
      " 0.22822008 0.23088653 0.23354588 0.23619184 0.23883544 0.24147316\n",
      " 0.24410481 0.24672142 0.24932864 0.25192275 0.25451371 0.2570988\n",
      " 0.25967121 0.26222979 0.26478635 0.26733892 0.26988691 0.27242071\n",
      " 0.27494331 0.277456   0.27996061 0.28246175 0.28493752 0.28739887\n",
      " 0.28984876 0.29229191 0.29472471 0.29715286 0.2995769  0.30199302\n",
      " 0.30440493 0.30680656 0.3091977  0.31158316 0.31395519 0.31631879\n",
      " 0.31867966 0.32102799 0.32336775 0.32570638 0.32804202 0.33036837\n",
      " 0.33268278 0.33499419 0.33729997 0.33959006 0.34186779 0.34414306\n",
      " 0.3464093  0.34867172 0.350928   0.35317995 0.35541791 0.35765201\n",
      " 0.35988014 0.36210154 0.3643184  0.36652631 0.36872961 0.37092956\n",
      " 0.37312094 0.37530083 0.37747598 0.37964575 0.38180999 0.38396923\n",
      " 0.38612499 0.38827017 0.39040793 0.39254116 0.39466633 0.39678841\n",
      " 0.39890249 0.4010131  0.40311219 0.40520605 0.40729845 0.40938616\n",
      " 0.41146747 0.41353824 0.41560166 0.41765555 0.41970767 0.42175271\n",
      " 0.42379505 0.4258334  0.42786575 0.42989204 0.43191114 0.43392776\n",
      " 0.43594116 0.43795041 0.4399436  0.44193439 0.44391757 0.4458997\n",
      " 0.44787336 0.44983945 0.45180051 0.45375535 0.45570604 0.45764789\n",
      " 0.45958357 0.4615184  0.46344215 0.46536027 0.46727484 0.46918463\n",
      " 0.47109097 0.47299021 0.47488233 0.47676965 0.47865492 0.48053437\n",
      " 0.48240549 0.48426988 0.48612675 0.48797867 0.48982991 0.4916727\n",
      " 0.49351334 0.49534622 0.49717201 0.49899642 0.50081716 0.50263306\n",
      " 0.50444466 0.50625217 0.5080579  0.50985209 0.51164326 0.51342746\n",
      " 0.51521087 0.51698481 0.51875772 0.52052219 0.52228076 0.52403817\n",
      " 0.52578637 0.5275321  0.52927287 0.53100608 0.53273452 0.53446088\n",
      " 0.5361841  0.53789907 0.53961218 0.54131969 0.54302707 0.54472839\n",
      " 0.54642547 0.54811912 0.54980834 0.55149507 0.55317332 0.55484897\n",
      " 0.55651879 0.55818599 0.55985096 0.56151404 0.56317122 0.56482311\n",
      " 0.56647021 0.56811375 0.56975322 0.57139109 0.57302539 0.57465584\n",
      " 0.57628206 0.57790067 0.57951719 0.58113273 0.58274404 0.58434769\n",
      " 0.58594876 0.58754677 0.58913976 0.59073018 0.59231802 0.59389787\n",
      " 0.59547326 0.59704566 0.59861488 0.60017835 0.60173915 0.60329346\n",
      " 0.60484589 0.60639213 0.60793498 0.60947433 0.61101259 0.61254569\n",
      " 0.61407308 0.61559625 0.61711378 0.61862971 0.62014211 0.62165134\n",
      " 0.62315945 0.62466071 0.62615359 0.62764517 0.62913212 0.63061312\n",
      " 0.63208855 0.6335591  0.63502765 0.63649024 0.6379503  0.63940844\n",
      " 0.64086312 0.64231415 0.64376243 0.64520466 0.64664545 0.64808042\n",
      " 0.64951191 0.65093645 0.65235567 0.65377167 0.65518633 0.6565982\n",
      " 0.65800406 0.65940887 0.66080685 0.66220183 0.66359179 0.66498054\n",
      " 0.66636157 0.66773925 0.66911386 0.67048749 0.67185386 0.67321804\n",
      " 0.67457632 0.67593257 0.67728412 0.67863188 0.67997545 0.68131202\n",
      " 0.68264686 0.68397968 0.6853081  0.68663154 0.68795327 0.68927128\n",
      " 0.690584   0.69189247 0.69319758 0.69450002 0.69580117 0.69709923\n",
      " 0.69839165 0.69967889 0.70096435 0.70224632 0.70352709 0.70480088\n",
      " 0.70607228 0.70734147 0.70860547 0.70986574 0.71112045 0.71237417\n",
      " 0.71362647 0.71487491 0.71611944 0.71736294 0.71860339 0.71984147\n",
      " 0.72107715 0.72230994 0.72353673 0.72475855 0.72597885 0.72719677\n",
      " 0.72841009 0.72961961 0.73082597 0.73202782 0.73322559 0.73442098\n",
      " 0.7356132  0.73680268 0.73798707 0.73916907 0.74034733 0.74152474\n",
      " 0.74269289 0.7438585  0.74502084 0.74617854 0.74733326 0.74848742\n",
      " 0.74963525 0.75078045 0.75192111 0.75306086 0.75419651 0.75532759\n",
      " 0.75645607 0.75758256 0.75870588 0.75982447 0.76093914 0.7620493\n",
      " 0.76315704 0.76426331 0.7653687  0.76646981 0.76756961 0.76866271\n",
      " 0.76975187 0.77084031 0.77192657 0.77300883 0.77409044 0.77516742\n",
      " 0.77624087 0.77730982 0.77837662 0.77943978 0.78050097 0.78156099\n",
      " 0.78261767 0.78367102 0.78472003 0.78576535 0.78680706 0.78784612\n",
      " 0.78888433 0.78991857 0.79094966 0.79197886 0.79300543 0.79402798\n",
      " 0.79504605 0.79606161 0.79707615 0.79808771 0.79909544 0.80010045\n",
      " 0.80109975 0.80209839 0.80309381 0.804089   0.80507822 0.8060668\n",
      " 0.80705216 0.808035   0.80901569 0.80999315 0.81096603 0.81193793\n",
      " 0.81290607 0.81387234 0.81483709 0.81580016 0.81676112 0.81772154\n",
      " 0.81868053 0.81963737 0.82059009 0.82154121 0.8224876  0.82343152\n",
      " 0.82437295 0.82530908 0.82624396 0.82717806 0.82810947 0.82903687\n",
      " 0.82995871 0.83087851 0.83179644 0.83271158 0.83362583 0.83453542\n",
      " 0.83544235 0.83634879 0.83725369 0.83815206 0.83904998 0.83994455\n",
      " 0.84083579 0.84172569 0.84261189 0.84349554 0.84437786 0.84525904\n",
      " 0.84613414 0.84700698 0.84787578 0.84874369 0.84960947 0.85047153\n",
      " 0.85133242 0.85218979 0.85304375 0.85389266 0.85473794 0.85558073\n",
      " 0.85642293 0.8572594  0.8580931  0.85892513 0.85975476 0.86058204\n",
      " 0.86140675 0.86222864 0.86304747 0.86386432 0.86467924 0.86549233\n",
      " 0.86630429 0.8671113  0.86791485 0.86871697 0.86951668 0.87031413\n",
      " 0.87110718 0.87189633 0.87268296 0.87346754 0.87424648 0.87502353\n",
      " 0.87579739 0.87656886 0.87733735 0.8781033  0.87886497 0.87962632\n",
      " 0.88038375 0.8811349  0.88188435 0.88263294 0.88337929 0.88412046\n",
      " 0.88486087 0.88560008 0.88633788 0.88707501 0.88780928 0.88854042\n",
      " 0.88926982 0.88999786 0.89072118 0.8914395  0.89215601 0.89287046\n",
      " 0.89358347 0.89429223 0.89499862 0.89570147 0.89640136 0.89710028\n",
      " 0.89779697 0.89848831 0.89917824 0.89986454 0.9005503  0.90123365\n",
      " 0.90191386 0.90258961 0.90326474 0.90393656 0.90460507 0.90527131\n",
      " 0.90593401 0.9065927  0.90724911 0.90790466 0.90855729 0.90920929\n",
      " 0.90985689 0.91050057 0.91113987 0.91177767 0.91241288 0.91304519\n",
      " 0.9136725  0.9142968  0.91491762 0.91553826 0.91615823 0.91677626\n",
      " 0.91739242 0.918006   0.91861542 0.91922133 0.91982625 0.92042723\n",
      " 0.92102707 0.92162446 0.92221982 0.9228108  0.92340155 0.92398831\n",
      " 0.92457317 0.92515643 0.92573745 0.92631587 0.92689007 0.92746248\n",
      " 0.92803395 0.92860158 0.92916819 0.92973346 0.93029633 0.9308569\n",
      " 0.93141375 0.93196969 0.93252236 0.93307357 0.93362079 0.93416662\n",
      " 0.93470958 0.93524833 0.93578637 0.93632303 0.93685822 0.93739186\n",
      " 0.93792289 0.93845184 0.93897819 0.93950244 0.94002596 0.94054878\n",
      " 0.94106717 0.94158288 0.94209596 0.94260861 0.94312014 0.94362788\n",
      " 0.94413404 0.94463738 0.94514008 0.94563959 0.9461374  0.94663364\n",
      " 0.9471274  0.94761984 0.94810815 0.94859429 0.94907963 0.94956309\n",
      " 0.95004503 0.95052596 0.95100579 0.95148529 0.95196479 0.95244232\n",
      " 0.9529169  0.95339    0.95386019 0.95432818 0.9547945  0.95525804\n",
      " 0.95572001 0.95618056 0.95663982 0.95709432 0.95754797 0.95799997\n",
      " 0.95844638 0.95889086 0.95933085 0.95976957 0.96020756 0.96064018\n",
      " 0.9610723  0.96150167 0.96192778 0.96235176 0.96277392 0.96319321\n",
      " 0.96361076 0.96402402 0.96443462 0.96484359 0.96525056 0.96565712\n",
      " 0.9660605  0.96646335 0.96686539 0.96726427 0.9676618  0.96805562\n",
      " 0.96844785 0.96883413 0.96921655 0.9695972  0.96997506 0.97034925\n",
      " 0.97072278 0.97109479 0.97146416 0.97182737 0.97218894 0.9725472\n",
      " 0.97290437 0.97325736 0.97360729 0.9739567  0.97430298 0.97464336\n",
      " 0.97498051 0.97531731 0.97565242 0.97598335 0.97631305 0.97663975\n",
      " 0.97696423 0.97728657 0.97760617 0.97792428 0.97823869 0.97855068\n",
      " 0.97886147 0.97916709 0.97947142 0.97977431 0.98007564 0.98037413\n",
      " 0.98067025 0.98096491 0.98125798 0.98154826 0.98183783 0.98212424\n",
      " 0.98240815 0.98268908 0.98296787 0.98324438 0.98351949 0.98379268\n",
      " 0.98406127 0.98432642 0.98459046 0.98485161 0.98511222 0.98536801\n",
      " 0.98562247 0.98587345 0.98612306 0.98636922 0.98661345 0.98685523\n",
      " 0.98709415 0.98733089 0.98756576 0.9877997  0.98803108 0.98826085\n",
      " 0.98848928 0.98871672 0.98894015 0.98916308 0.98938185 0.98959867\n",
      " 0.98981313 0.99002675 0.99023621 0.99044025 0.99064162 0.99084174\n",
      " 0.99103857 0.99123296 0.99142597 0.99161735 0.99180546 0.99199178\n",
      " 0.99217731 0.99235903 0.99253925 0.9927177  0.9928938  0.99306609\n",
      " 0.99323776 0.99340647 0.99357284 0.99373737 0.99390027 0.99405845\n",
      " 0.99421236 0.9943657  0.99451693 0.99466699 0.99481451 0.99496052\n",
      " 0.99510487 0.99524895 0.99539043 0.99552699 0.99566226 0.99579561\n",
      " 0.99592718 0.99605492 0.99618112 0.99630449 0.99642574 0.99654464\n",
      " 0.99666188 0.99677801 0.99689312 0.99700629 0.99711559 0.99722402\n",
      " 0.99732972 0.99743291 0.99753363 0.99763183 0.99772736 0.99782043\n",
      " 0.99791277 0.99800359 0.99809304 0.99817975 0.99826385 0.99834533\n",
      " 0.9984256  0.99850488 0.99857836 0.99865006 0.99872125 0.9987918\n",
      " 0.99886065 0.9989272  0.9989922  0.99905597 0.99911453 0.99917176\n",
      " 0.99922728 0.99928139 0.99933456 0.99938688 0.99943783 0.9994862\n",
      " 0.99953426 0.99957898 0.99962133 0.99965846 0.99969476 0.999728\n",
      " 0.99976022 0.99979024 0.9998195  0.99984794 0.99987565 0.99989797\n",
      " 0.99991849 0.99993765 0.99995608 0.99997145 0.9999828  0.99999329\n",
      " 1.         1.         1.         1.         1.         1.\n",
      " 1.         1.         1.         1.         1.         1.\n",
      " 1.         1.         1.         1.         1.        ]\n"
     ]
    },
    {
     "data": {
      "image/png": "[encoded data removed]",
      "text/plain": [
       "<Figure size 640x480 with 1 Axes>"
      ]
     },
     "metadata": {},
     "output_type": "display_data"
    }
   ],
   "source": [
    "import numpy as np\n",
    "from sklearn.decomposition import PCA\n",
    "import matplotlib.pyplot as plt\n",
    "\n",
    "pca = PCA().fit(stand_X_tfidf)\n",
    "nc  = list(range(1,1+len(pca.explained_variance_ratio_)))\n",
    "ev  = np.cumsum(pca.explained_variance_ratio_)\n",
    "\n",
    "print(f'number of components: {nc}')\n",
    "print(f'cumulative explained variance: {ev}')\n",
    "\n",
    "plt.plot(nc, ev)\n",
    "plt.xlabel('number of components')\n",
    "plt.ylabel('cumulative explained variance')\n",
    "plt.show()"
   ]
  },
  {
   "cell_type": "code",
   "execution_count": 95,
   "metadata": {},
   "outputs": [
    {
     "data": {
      "text/html": [
       "<div>\n",
       "<style scoped>\n",
       "    .dataframe tbody tr th:only-of-type {\n",
       "        vertical-align: middle;\n",
       "    }\n",
       "\n",
       "    .dataframe tbody tr th {\n",
       "        vertical-align: top;\n",
       "    }\n",
       "\n",
       "    .dataframe thead th {\n",
       "        text-align: right;\n",
       "    }\n",
       "</style>\n",
       "<table border=\"1\" class=\"dataframe\">\n",
       "  <thead>\n",
       "    <tr style=\"text-align: right;\">\n",
       "      <th></th>\n",
       "      <th>pc1</th>\n",
       "      <th>pc2</th>\n",
       "    </tr>\n",
       "  </thead>\n",
       "  <tbody>\n",
       "    <tr>\n",
       "      <th>0</th>\n",
       "      <td>-1.726196</td>\n",
       "      <td>-0.431016</td>\n",
       "    </tr>\n",
       "    <tr>\n",
       "      <th>1</th>\n",
       "      <td>9.261476</td>\n",
       "      <td>0.176913</td>\n",
       "    </tr>\n",
       "    <tr>\n",
       "      <th>2</th>\n",
       "      <td>-2.693910</td>\n",
       "      <td>6.347322</td>\n",
       "    </tr>\n",
       "    <tr>\n",
       "      <th>3</th>\n",
       "      <td>-2.427567</td>\n",
       "      <td>-0.638765</td>\n",
       "    </tr>\n",
       "    <tr>\n",
       "      <th>4</th>\n",
       "      <td>-2.413804</td>\n",
       "      <td>-5.454454</td>\n",
       "    </tr>\n",
       "  </tbody>\n",
       "</table>\n",
       "</div>"
      ],
      "text/plain": [
       "        pc1       pc2\n",
       "0 -1.726196 -0.431016\n",
       "1  9.261476  0.176913\n",
       "2 -2.693910  6.347322\n",
       "3 -2.427567 -0.638765\n",
       "4 -2.413804 -5.454454"
      ]
     },
     "execution_count": 95,
     "metadata": {},
     "output_type": "execute_result"
    }
   ],
   "source": [
    "import pandas as pd\n",
    "\n",
    "# Keep only the first 2 components\n",
    "pca = PCA(n_components = 2)\n",
    "\n",
    "# Fit PCA and transform the data in the new coordinates\n",
    "X_pca = pca.fit_transform(stand_X_tfidf)\n",
    "\n",
    "# term-document matrix in the new coordinates\n",
    "X_pca = pd.DataFrame(data = X_pca, columns = ['pc1', 'pc2'])\n",
    "X_pca"
   ]
  },
  {
   "cell_type": "code",
   "execution_count": 96,
   "metadata": {},
   "outputs": [
    {
     "data": {
      "text/plain": [
       "['#domanivotolega',\n",
       " 'sorpresa devo essere sincero commosso cercato nasconderlo po figlio federico molto riservato me proprio aspettato p s domani voterà prima volta detto “ forse ” sceglierà lega 🥲 2/2',\n",
       " 'ieri durante #maratonasalvini live canali social detto dietro quinte “ contributo sorpresa te ” 1/2',\n",
       " 'intervista qualche giorno fa ve ripropongo #domanivotolega',\n",
       " 'tre priorità lega guarda video amici domani decidete 7 23 andate votare #domanivotolega 💪']"
      ]
     },
     "execution_count": 96,
     "metadata": {},
     "output_type": "execute_result"
    }
   ],
   "source": [
    "test_docs"
   ]
  },
  {
   "cell_type": "code",
   "execution_count": 97,
   "metadata": {},
   "outputs": [
    {
     "data": {
      "image/png": "[encoded data removed]",
      "text/plain": [
       "<Figure size 640x480 with 1 Axes>"
      ]
     },
     "metadata": {},
     "output_type": "display_data"
    }
   ],
   "source": [
    "X_pca.plot(kind = 'scatter', x = 'pc1', y = 'pc2', color = ['red','blue','green','orange', 'purple'])\n",
    "plt.show()"
   ]
  },
  {
   "cell_type": "code",
   "execution_count": null,
   "metadata": {},
   "outputs": [],
   "source": [
    "cleaned_tweet = list()\n",
    "\n",
    "for tweet in filtered_data[\"bonino\"]:\n",
    "    cleaned_tweet.append([tweet, tokenize(tweet)])\n",
    "\n",
    "pd.DataFrame(cleaned_tweet).to_csv(\"TBD/test.csv\")"
   ]
  },
  {
   "cell_type": "markdown",
   "metadata": {},
   "source": [
    "## IS SPACY USEFUL?"
   ]
  },
  {
   "cell_type": "code",
   "execution_count": 79,
   "metadata": {},
   "outputs": [],
   "source": [
    "# Punctuation cleaning\n",
    "\n",
    "nlp = spacy.load(\"it_core_news_lg\")\n",
    "\n",
    "corpus = dict()\n",
    "for politician in POLITICIANS:\n",
    "    corpus[politician] = []\n",
    "    for tweet in date_filtered_data[politician]:\n",
    "        for sentence in nlp(tweet).sents:\n",
    "            # TODO add readibility/ do better\n",
    "            sentence_text_w_placeholder = re.sub('\\+Europa', 'SPECIFICPOLITICALPARTYPLACEHOLDER', sentence.text, flags=re.IGNORECASE)\n",
    "            cleaned_sentence_text = \"\".join([x for x in sentence_text_w_placeholder if x not in punctuation and x not in digits])\n",
    "            corpus[politician].append(re.sub('SPECIFICPOLITICALPARTYPLACEHOLDER', '+Europa', cleaned_sentence_text))"
   ]
  },
  {
   "cell_type": "code",
   "execution_count": 97,
   "metadata": {},
   "outputs": [
    {
     "name": "stderr",
     "output_type": "stream",
     "text": [
      "/Users/teo/Documents/unimi/how-politician-change-their-mind/.venv/lib/python3.8/site-packages/sklearn/utils/deprecation.py:87: FutureWarning: Function get_feature_names is deprecated; get_feature_names is deprecated in 1.0 and will be removed in 1.2. Please use get_feature_names_out instead.\n",
      "  warnings.warn(msg, category=FutureWarning)\n"
     ]
    }
   ],
   "source": [
    "# Tokenization, Lemmatization, StopWords Remover\n",
    "\n",
    "tokenize = lambda text: [x.lemma_.lower() for x in nlp(text) if x.pos_ in ['NOUN', 'PROPN']]\n",
    "vectorizer = CountVectorizer(tokenizer=tokenize)\n",
    "X = vectorizer.fit_transform(corpus[\"salvini\"])\n",
    "Xa = pd.DataFrame(X.toarray(), columns=vectorizer.get_feature_names())"
   ]
  },
  {
   "cell_type": "code",
   "execution_count": 106,
   "metadata": {},
   "outputs": [
    {
     "name": "stdout",
     "output_type": "stream",
     "text": [
      "settembrevotolega    197\n",
      "lega                 181\n",
      "settembre            148\n",
      "italiano              96\n",
      "italia                90\n",
      "                    ... \n",
      "intelligenza           1\n",
      "insicurezza            1\n",
      "insetto                1\n",
      "insegnamento           1\n",
      "🥲                      1\n",
      "Length: 1896, dtype: int64\n"
     ]
    }
   ],
   "source": [
    "Xa.sum().sort_values(ascending=False)"
   ]
  },
  {
   "cell_type": "code",
   "execution_count": 107,
   "metadata": {},
   "outputs": [
    {
     "name": "stderr",
     "output_type": "stream",
     "text": [
      "/Users/teo/Documents/unimi/how-politician-change-their-mind/.venv/lib/python3.8/site-packages/sklearn/utils/deprecation.py:87: FutureWarning: Function get_feature_names is deprecated; get_feature_names is deprecated in 1.0 and will be removed in 1.2. Please use get_feature_names_out instead.\n",
      "  warnings.warn(msg, category=FutureWarning)\n"
     ]
    }
   ],
   "source": [
    "tokenize = lambda text: [x.lemma_.lower() for x in nlp(text) if x.pos_ in ['NOUN', 'PROPN']]\n",
    "vectorizer = CountVectorizer(tokenizer=tokenize)\n",
    "X = vectorizer.fit_transform(corpus[\"calenda\"])\n",
    "Xa = pd.DataFrame(X.toarray(), columns=vectorizer.get_feature_names())"
   ]
  },
  {
   "cell_type": "code",
   "execution_count": 108,
   "metadata": {},
   "outputs": [
    {
     "data": {
      "text/plain": [
       "drago       137\n",
       "paese       123\n",
       "italia      106\n",
       "pd          106\n",
       "governo     103\n",
       "           ... \n",
       "opinione      1\n",
       "opificio      1\n",
       "distanza      1\n",
       "operaio       1\n",
       "a             1\n",
       "Length: 2408, dtype: int64"
      ]
     },
     "execution_count": 108,
     "metadata": {},
     "output_type": "execute_result"
    }
   ],
   "source": [
    "Xa.sum().sort_values(ascending=False)"
   ]
  },
  {
   "cell_type": "code",
   "execution_count": 109,
   "metadata": {},
   "outputs": [
    {
     "name": "stderr",
     "output_type": "stream",
     "text": [
      "/Users/teo/Documents/unimi/how-politician-change-their-mind/.venv/lib/python3.8/site-packages/sklearn/utils/deprecation.py:87: FutureWarning: Function get_feature_names is deprecated; get_feature_names is deprecated in 1.0 and will be removed in 1.2. Please use get_feature_names_out instead.\n",
      "  warnings.warn(msg, category=FutureWarning)\n"
     ]
    },
    {
     "data": {
      "text/plain": [
       "secondo      17\n",
       "drago        16\n",
       "campagna     16\n",
       "settembre    14\n",
       "melone       14\n",
       "             ..\n",
       "giugno        1\n",
       "giovedì       1\n",
       "giovane       1\n",
       "giorgia       1\n",
       "♂             1\n",
       "Length: 542, dtype: int64"
      ]
     },
     "execution_count": 109,
     "metadata": {},
     "output_type": "execute_result"
    }
   ],
   "source": [
    "tokenize = lambda text: [x.lemma_.lower() for x in nlp(text) if x.pos_ in ['NOUN', 'PROPN']]\n",
    "vectorizer = CountVectorizer(tokenizer=tokenize)\n",
    "X = vectorizer.fit_transform(corpus[\"renzi\"])\n",
    "Xa = pd.DataFrame(X.toarray(), columns=vectorizer.get_feature_names())\n",
    "Xa.sum().sort_values(ascending=False)"
   ]
  },
  {
   "cell_type": "code",
   "execution_count": 110,
   "metadata": {},
   "outputs": [
    {
     "name": "stderr",
     "output_type": "stream",
     "text": [
      "/Users/teo/Documents/unimi/how-politician-change-their-mind/.venv/lib/python3.8/site-packages/sklearn/utils/deprecation.py:87: FutureWarning: Function get_feature_names is deprecated; get_feature_names is deprecated in 1.0 and will be removed in 1.2. Please use get_feature_names_out instead.\n",
      "  warnings.warn(msg, category=FutureWarning)\n"
     ]
    },
    {
     "data": {
      "text/plain": [
       "sera          58\n",
       "intervista    58\n",
       "movstelle     56\n",
       "grazie        40\n",
       "diretta       32\n",
       "              ..\n",
       "lisola         2\n",
       "linteresse     2\n",
       "linea          2\n",
       "limpegno       2\n",
       "📺              2\n",
       "Length: 672, dtype: int64"
      ]
     },
     "execution_count": 110,
     "metadata": {},
     "output_type": "execute_result"
    }
   ],
   "source": [
    "tokenize = lambda text: [x.lemma_.lower() for x in nlp(text) if x.pos_ in ['NOUN', 'PROPN']]\n",
    "vectorizer = CountVectorizer(tokenizer=tokenize)\n",
    "X = vectorizer.fit_transform(corpus[\"conte\"])\n",
    "Xa = pd.DataFrame(X.toarray(), columns=vectorizer.get_feature_names())\n",
    "Xa.sum().sort_values(ascending=False)"
   ]
  },
  {
   "cell_type": "code",
   "execution_count": null,
   "metadata": {},
   "outputs": [],
   "source": [
    "def clean_data(corpus: list):\n",
    "    # TODO\n",
    "    return corpus"
   ]
  },
  {
   "cell_type": "markdown",
   "metadata": {},
   "source": [
    "## Clean data"
   ]
  },
  {
   "cell_type": "code",
   "execution_count": null,
   "metadata": {},
   "outputs": [],
   "source": [
    "out_data = clean_data(input_data)"
   ]
  }
 ],
 "metadata": {
  "kernelspec": {
   "display_name": "Python 3.9.2 ('.venv': venv)",
   "language": "python",
   "name": "python3"
  },
  "language_info": {
   "codemirror_mode": {
    "name": "ipython",
    "version": 3
   },
   "file_extension": ".py",
   "mimetype": "text/x-python",
   "name": "python",
   "nbconvert_exporter": "python",
   "pygments_lexer": "ipython3",
   "version": "3.9.2"
  },
  "orig_nbformat": 4,
  "vscode": {
   "interpreter": {
    "hash": "9eaf728c2940a6692d2e7d7e6ce72533e60deae695939243e176787cb5691bda"
   }
  }
 },
 "nbformat": 4,
 "nbformat_minor": 2
}
