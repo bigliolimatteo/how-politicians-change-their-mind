{
 "cells": [
  {
   "cell_type": "markdown",
   "metadata": {},
   "source": [
    "# Data Cleaning"
   ]
  },
  {
   "cell_type": "code",
   "execution_count": null,
   "metadata": {},
   "outputs": [],
   "source": [
    "#TODO data analysis esplorativa iniziale \n",
    "# quanti tweet per politico?\n",
    "# quanti like per politico?\n",
    "# quanti retweet?\n",
    "# ...\n",
    "\n",
    "# NOTE that here we also have retweets\n",
    "#for politician in POLITICIANS:\n",
    "#    print(politician + \" \" + str(len([tweet for tweet in date_filtered_data[politician] if \"RT\" not in tweet])))"
   ]
  },
  {
   "cell_type": "markdown",
   "metadata": {},
   "source": [
    "## Importing libraries and data"
   ]
  },
  {
   "cell_type": "code",
   "execution_count": 16,
   "metadata": {},
   "outputs": [],
   "source": [
    "import json\n",
    "import os\n",
    "import re\n",
    "import numpy as np\n",
    "import pandas as pd\n",
    "\n",
    "from datetime import datetime\n",
    "\n",
    "import spacy\n",
    "\n",
    "from sklearn.feature_extraction.text import CountVectorizer\n",
    "from string import punctuation, digits\n",
    "\n",
    "from nltk.tokenize import TweetTokenizer\n",
    "from collections import defaultdict, Counter\n",
    "from nltk.corpus import stopwords\n",
    "from string import punctuation\n",
    "import nltk\n",
    "\n",
    "from nltk.stem import PorterStemmer, SnowballStemmer\n",
    "\n",
    "from sklearn.preprocessing import StandardScaler\n",
    "\n",
    "from sklearn.decomposition import PCA\n",
    "import matplotlib.pyplot as plt\n",
    "\n",
    "from sklearn.feature_extraction.text import TfidfVectorizer"
   ]
  },
  {
   "cell_type": "code",
   "execution_count": 2,
   "metadata": {},
   "outputs": [],
   "source": [
    "RELEVANT_FIELDS = [\"text\", \"created_at\"]\n",
    "\n",
    "def read_data(input_directory: str):\n",
    "    input_data = dict()\n",
    "\n",
    "    for filename in os.listdir(input_directory):\n",
    "        if filename.endswith(\"json\"):\n",
    "            politician_name = filename.split(\".\")[0]\n",
    "\n",
    "            file_location = os.path.join(input_directory, filename)\n",
    "            file = open(file_location, \"r\")\n",
    "\n",
    "            tweets = json.load(file)[\"tweets\"]\n",
    "\n",
    "            filtered_tweets = [{ key: tweet[key] for key in RELEVANT_FIELDS } for tweet in tweets]\n",
    "\n",
    "            input_data[politician_name] = filtered_tweets\n",
    "            \n",
    "        else: \n",
    "            raise Exception(f\"Input file {filename} has a non supported format.\")\n",
    "    return input_data"
   ]
  },
  {
   "cell_type": "code",
   "execution_count": 3,
   "metadata": {},
   "outputs": [],
   "source": [
    "input_data = read_data(\"data\")"
   ]
  },
  {
   "cell_type": "markdown",
   "metadata": {},
   "source": [
    "## Defining cleaning function"
   ]
  },
  {
   "cell_type": "markdown",
   "metadata": {},
   "source": [
    "- Remove stopwords\n",
    "- Combine tweets that are part1 and part2\n",
    "- DONE Remove tweets after a deadline (e.g. the midnight of the election)\n",
    "- DONE Remove tweets before a deadline (e.g. max 3 months old) -> this is needed because we need to compare similar timeframes\n",
    "- tokenization?\n",
    "- stemming / lemmatization\n"
   ]
  },
  {
   "cell_type": "code",
   "execution_count": null,
   "metadata": {},
   "outputs": [],
   "source": [
    "# TODO do we need to remove digits?\n",
    "# TODO is it bad to split tweets into subsentences? -> TODO join multiple splitted tweets ((2/2))\n",
    "# TODO note that there are tweets related to pics that we dont have\n",
    "# TODO how to manage hashtags and citations (#/@)\n",
    "# TODO create a pipeline funciton to use in pandas distributed-wise"
   ]
  },
  {
   "cell_type": "code",
   "execution_count": 4,
   "metadata": {},
   "outputs": [],
   "source": [
    "# TODO create a pipeline funciton to use in pandas distributed-wise\n",
    "def date_filter(tweet: dict, start_date = datetime(2022,7,22), end_date = datetime(2022,9,25)):\n",
    "    created_at = datetime.strptime(tweet['created_at'], \"%Y-%m-%dT%H:%M:%S.%fZ\")\n",
    "    return created_at >= start_date and created_at < end_date\n",
    "\n",
    "def remove_links(tweet: dict):\n",
    "    return re.sub(r'http\\S+', '', tweet[\"text\"])\n",
    "\n",
    "def is_retweet(tweet: dict):\n",
    "    return tweet[\"text\"].startswith(\"RT @\")\n",
    "\n",
    "def preclean_tweet(tweet: dict):\n",
    "    if date_filter(tweet) and not is_retweet(tweet):\n",
    "        return remove_links(tweet)  \n",
    "    else:\n",
    "        return \"\""
   ]
  },
  {
   "cell_type": "code",
   "execution_count": 5,
   "metadata": {},
   "outputs": [],
   "source": [
    "POLITICIANS = list(input_data.keys())\n",
    "filtered_data = {politician: list(filter(None, [preclean_tweet(tweet) for tweet in input_data[politician]])) for politician in POLITICIANS}"
   ]
  },
  {
   "cell_type": "code",
   "execution_count": null,
   "metadata": {},
   "outputs": [],
   "source": [
    "filtered_data"
   ]
  },
  {
   "cell_type": "code",
   "execution_count": null,
   "metadata": {},
   "outputs": [],
   "source": [
    "# Remove punctuation\n",
    "# Remove stopwords\n",
    "# Lemmatizer/Stemmer\n",
    "# Tokenization"
   ]
  },
  {
   "cell_type": "markdown",
   "metadata": {},
   "source": [
    "## NLTK Let's GO!"
   ]
  },
  {
   "cell_type": "code",
   "execution_count": 7,
   "metadata": {},
   "outputs": [
    {
     "name": "stderr",
     "output_type": "stream",
     "text": [
      "[nltk_data] Downloading package stopwords to\n",
      "[nltk_data]     /Users/robertostaino/nltk_data...\n",
      "[nltk_data]   Unzipping corpora/stopwords.zip.\n"
     ]
    }
   ],
   "source": [
    "nltk.download('stopwords')\n",
    "\n",
    "ITALIAN_PUNCTUATION = punctuation + \"’\" # TODO add readibility\n"
   ]
  },
  {
   "cell_type": "code",
   "execution_count": 8,
   "metadata": {},
   "outputs": [],
   "source": [
    "stopw = set(stopwords.words('italian'))\n",
    "tokenizer = TweetTokenizer()\n",
    "tokenize = lambda text: [word for word in tokenizer.tokenize(text.lower()) \n",
    "                         if word not in ITALIAN_PUNCTUATION and word not in stopw and not word.startswith('http')] "
   ]
  },
  {
   "cell_type": "code",
   "execution_count": 9,
   "metadata": {},
   "outputs": [],
   "source": [
    "tokenized_data = {politician: [tokenize(tweet) for tweet in filtered_data[politician]] for politician in POLITICIANS}"
   ]
  },
  {
   "cell_type": "markdown",
   "metadata": {},
   "source": [
    "### Stemmer"
   ]
  },
  {
   "cell_type": "code",
   "execution_count": 10,
   "metadata": {},
   "outputs": [],
   "source": [
    "# Stemmer\n",
    "\n",
    "# PorterStemmer()\n",
    "# SnowballStemmer('italian')\n",
    "# LancasterStemmer()\n",
    "# RegexpStemmer('ita')\n",
    "\n",
    "stem = lambda tokenized_text, stemmer: [stemmer.stem(word.lower()) for word in tokenized_text] \n",
    "\n",
    "stemmed_data = {politician: [stem(tweet, SnowballStemmer('italian')) for tweet in tokenized_data[politician]] for politician in POLITICIANS}"
   ]
  },
  {
   "cell_type": "markdown",
   "metadata": {},
   "source": [
    "### Lemmatizer"
   ]
  },
  {
   "cell_type": "code",
   "execution_count": 125,
   "metadata": {},
   "outputs": [
    {
     "name": "stderr",
     "output_type": "stream",
     "text": [
      "[nltk_data] Downloading package wordnet to /Users/billy/nltk_data...\n",
      "[nltk_data]   Package wordnet is already up-to-date!\n",
      "[nltk_data] Downloading package omw-1.4 to /Users/billy/nltk_data...\n",
      "[nltk_data]   Package omw-1.4 is already up-to-date!\n"
     ]
    },
    {
     "ename": "TypeError",
     "evalue": "lemmatize() got an unexpected keyword argument 'lang'",
     "output_type": "error",
     "traceback": [
      "\u001b[0;31m---------------------------------------------------------------------------\u001b[0m",
      "\u001b[0;31mTypeError\u001b[0m                                 Traceback (most recent call last)",
      "Cell \u001b[0;32mIn [125], line 10\u001b[0m\n\u001b[1;32m      6\u001b[0m lemma \u001b[39m=\u001b[39m WordNetLemmatizer()\n\u001b[1;32m      8\u001b[0m lemmatize \u001b[39m=\u001b[39m \u001b[39mlambda\u001b[39;00m tokenized_text, lemmatizer: [lemmatizer\u001b[39m.\u001b[39mlemmatize(word\u001b[39m.\u001b[39mlower(), lang\u001b[39m=\u001b[39m\u001b[39m\"\u001b[39m\u001b[39mita\u001b[39m\u001b[39m\"\u001b[39m) \u001b[39mfor\u001b[39;00m word \u001b[39min\u001b[39;00m tokenized_text] \n\u001b[0;32m---> 10\u001b[0m lemmatized_data \u001b[39m=\u001b[39m {politician: [lemmatize(tweet, WordNetLemmatizer()) \u001b[39mfor\u001b[39;00m tweet \u001b[39min\u001b[39;00m tokenized_data[politician]] \u001b[39mfor\u001b[39;00m politician \u001b[39min\u001b[39;00m POLITICIANS}\n",
      "Cell \u001b[0;32mIn [125], line 10\u001b[0m, in \u001b[0;36m<dictcomp>\u001b[0;34m(.0)\u001b[0m\n\u001b[1;32m      6\u001b[0m lemma \u001b[39m=\u001b[39m WordNetLemmatizer()\n\u001b[1;32m      8\u001b[0m lemmatize \u001b[39m=\u001b[39m \u001b[39mlambda\u001b[39;00m tokenized_text, lemmatizer: [lemmatizer\u001b[39m.\u001b[39mlemmatize(word\u001b[39m.\u001b[39mlower(), lang\u001b[39m=\u001b[39m\u001b[39m\"\u001b[39m\u001b[39mita\u001b[39m\u001b[39m\"\u001b[39m) \u001b[39mfor\u001b[39;00m word \u001b[39min\u001b[39;00m tokenized_text] \n\u001b[0;32m---> 10\u001b[0m lemmatized_data \u001b[39m=\u001b[39m {politician: [lemmatize(tweet, WordNetLemmatizer()) \u001b[39mfor\u001b[39;00m tweet \u001b[39min\u001b[39;00m tokenized_data[politician]] \u001b[39mfor\u001b[39;00m politician \u001b[39min\u001b[39;00m POLITICIANS}\n",
      "Cell \u001b[0;32mIn [125], line 10\u001b[0m, in \u001b[0;36m<listcomp>\u001b[0;34m(.0)\u001b[0m\n\u001b[1;32m      6\u001b[0m lemma \u001b[39m=\u001b[39m WordNetLemmatizer()\n\u001b[1;32m      8\u001b[0m lemmatize \u001b[39m=\u001b[39m \u001b[39mlambda\u001b[39;00m tokenized_text, lemmatizer: [lemmatizer\u001b[39m.\u001b[39mlemmatize(word\u001b[39m.\u001b[39mlower(), lang\u001b[39m=\u001b[39m\u001b[39m\"\u001b[39m\u001b[39mita\u001b[39m\u001b[39m\"\u001b[39m) \u001b[39mfor\u001b[39;00m word \u001b[39min\u001b[39;00m tokenized_text] \n\u001b[0;32m---> 10\u001b[0m lemmatized_data \u001b[39m=\u001b[39m {politician: [lemmatize(tweet, WordNetLemmatizer()) \u001b[39mfor\u001b[39;00m tweet \u001b[39min\u001b[39;00m tokenized_data[politician]] \u001b[39mfor\u001b[39;00m politician \u001b[39min\u001b[39;00m POLITICIANS}\n",
      "Cell \u001b[0;32mIn [125], line 8\u001b[0m, in \u001b[0;36m<lambda>\u001b[0;34m(tokenized_text, lemmatizer)\u001b[0m\n\u001b[1;32m      4\u001b[0m nltk\u001b[39m.\u001b[39mdownload(\u001b[39m'\u001b[39m\u001b[39momw-1.4\u001b[39m\u001b[39m'\u001b[39m)\n\u001b[1;32m      6\u001b[0m lemma \u001b[39m=\u001b[39m WordNetLemmatizer()\n\u001b[0;32m----> 8\u001b[0m lemmatize \u001b[39m=\u001b[39m \u001b[39mlambda\u001b[39;00m tokenized_text, lemmatizer: [lemmatizer\u001b[39m.\u001b[39mlemmatize(word\u001b[39m.\u001b[39mlower(), lang\u001b[39m=\u001b[39m\u001b[39m\"\u001b[39m\u001b[39mita\u001b[39m\u001b[39m\"\u001b[39m) \u001b[39mfor\u001b[39;00m word \u001b[39min\u001b[39;00m tokenized_text] \n\u001b[1;32m     10\u001b[0m lemmatized_data \u001b[39m=\u001b[39m {politician: [lemmatize(tweet, WordNetLemmatizer()) \u001b[39mfor\u001b[39;00m tweet \u001b[39min\u001b[39;00m tokenized_data[politician]] \u001b[39mfor\u001b[39;00m politician \u001b[39min\u001b[39;00m POLITICIANS}\n",
      "Cell \u001b[0;32mIn [125], line 8\u001b[0m, in \u001b[0;36m<listcomp>\u001b[0;34m(.0)\u001b[0m\n\u001b[1;32m      4\u001b[0m nltk\u001b[39m.\u001b[39mdownload(\u001b[39m'\u001b[39m\u001b[39momw-1.4\u001b[39m\u001b[39m'\u001b[39m)\n\u001b[1;32m      6\u001b[0m lemma \u001b[39m=\u001b[39m WordNetLemmatizer()\n\u001b[0;32m----> 8\u001b[0m lemmatize \u001b[39m=\u001b[39m \u001b[39mlambda\u001b[39;00m tokenized_text, lemmatizer: [lemmatizer\u001b[39m.\u001b[39;49mlemmatize(word\u001b[39m.\u001b[39;49mlower(), lang\u001b[39m=\u001b[39;49m\u001b[39m\"\u001b[39;49m\u001b[39mita\u001b[39;49m\u001b[39m\"\u001b[39;49m) \u001b[39mfor\u001b[39;00m word \u001b[39min\u001b[39;00m tokenized_text] \n\u001b[1;32m     10\u001b[0m lemmatized_data \u001b[39m=\u001b[39m {politician: [lemmatize(tweet, WordNetLemmatizer()) \u001b[39mfor\u001b[39;00m tweet \u001b[39min\u001b[39;00m tokenized_data[politician]] \u001b[39mfor\u001b[39;00m politician \u001b[39min\u001b[39;00m POLITICIANS}\n",
      "\u001b[0;31mTypeError\u001b[0m: lemmatize() got an unexpected keyword argument 'lang'"
     ]
    }
   ],
   "source": [
    "from nltk.stem import WordNetLemmatizer\n",
    "\n",
    "nltk.download('wordnet')\n",
    "nltk.download('omw-1.4')\n",
    "\n",
    "lemma = WordNetLemmatizer()\n",
    "\n",
    "lemmatize = lambda tokenized_text, lemmatizer: [lemmatizer.lemmatize(word.lower(), lang=\"ita\") for word in tokenized_text] \n",
    "\n",
    "lemmatized_data = {politician: [lemmatize(tweet, WordNetLemmatizer()) for tweet in tokenized_data[politician]] for politician in POLITICIANS}"
   ]
  },
  {
   "cell_type": "code",
   "execution_count": 64,
   "metadata": {},
   "outputs": [],
   "source": [
    "# cleaned_tweet = list()\n",
    "\n",
    "# for tweet, lemmatized_tweet in zip(filtered_data[\"bonino\"], lemmatized_data[\"bonino\"]):\n",
    "#     cleaned_tweet.append([tweet, lemmatized_tweet])\n",
    "\n",
    "# pd.DataFrame(cleaned_tweet).to_csv(\"TBD/test_lemma.csv\")"
   ]
  },
  {
   "cell_type": "markdown",
   "metadata": {},
   "source": [
    "### Tfidf"
   ]
  },
  {
   "cell_type": "code",
   "execution_count": 28,
   "metadata": {},
   "outputs": [
    {
     "name": "stderr",
     "output_type": "stream",
     "text": [
      "/Users/robertostaino/Desktop/Università/Text Mining and Sentiment Analysis/how-politician-change-their-mind/.venv/lib/python3.9/site-packages/sklearn/utils/deprecation.py:87: FutureWarning: Function get_feature_names is deprecated; get_feature_names is deprecated in 1.0 and will be removed in 1.2. Please use get_feature_names_out instead.\n",
      "  warnings.warn(msg, category=FutureWarning)\n"
     ]
    },
    {
     "data": {
      "text/html": [
       "<div>\n",
       "<style scoped>\n",
       "    .dataframe tbody tr th:only-of-type {\n",
       "        vertical-align: middle;\n",
       "    }\n",
       "\n",
       "    .dataframe tbody tr th {\n",
       "        vertical-align: top;\n",
       "    }\n",
       "\n",
       "    .dataframe thead th {\n",
       "        text-align: right;\n",
       "    }\n",
       "</style>\n",
       "<table border=\"1\" class=\"dataframe\">\n",
       "  <thead>\n",
       "    <tr style=\"text-align: right;\">\n",
       "      <th></th>\n",
       "      <th>tfidf</th>\n",
       "    </tr>\n",
       "  </thead>\n",
       "  <tbody>\n",
       "    <tr>\n",
       "      <th>domanivotoleg</th>\n",
       "      <td>1.0</td>\n",
       "    </tr>\n",
       "    <tr>\n",
       "      <th>23</th>\n",
       "      <td>0.0</td>\n",
       "    </tr>\n",
       "    <tr>\n",
       "      <th>liv</th>\n",
       "      <td>0.0</td>\n",
       "    </tr>\n",
       "    <tr>\n",
       "      <th>me</th>\n",
       "      <td>0.0</td>\n",
       "    </tr>\n",
       "    <tr>\n",
       "      <th>molt</th>\n",
       "      <td>0.0</td>\n",
       "    </tr>\n",
       "    <tr>\n",
       "      <th>nascond</th>\n",
       "      <td>0.0</td>\n",
       "    </tr>\n",
       "    <tr>\n",
       "      <th>po</th>\n",
       "      <td>0.0</td>\n",
       "    </tr>\n",
       "    <tr>\n",
       "      <th>prim</th>\n",
       "      <td>0.0</td>\n",
       "    </tr>\n",
       "    <tr>\n",
       "      <th>priorit</th>\n",
       "      <td>0.0</td>\n",
       "    </tr>\n",
       "    <tr>\n",
       "      <th>propr</th>\n",
       "      <td>0.0</td>\n",
       "    </tr>\n",
       "    <tr>\n",
       "      <th>qualc</th>\n",
       "      <td>0.0</td>\n",
       "    </tr>\n",
       "    <tr>\n",
       "      <th>quint</th>\n",
       "      <td>0.0</td>\n",
       "    </tr>\n",
       "    <tr>\n",
       "      <th>ripropong</th>\n",
       "      <td>0.0</td>\n",
       "    </tr>\n",
       "    <tr>\n",
       "      <th>riserv</th>\n",
       "      <td>0.0</td>\n",
       "    </tr>\n",
       "    <tr>\n",
       "      <th>scegl</th>\n",
       "      <td>0.0</td>\n",
       "    </tr>\n",
       "    <tr>\n",
       "      <th>sincer</th>\n",
       "      <td>0.0</td>\n",
       "    </tr>\n",
       "    <tr>\n",
       "      <th>social</th>\n",
       "      <td>0.0</td>\n",
       "    </tr>\n",
       "    <tr>\n",
       "      <th>sorpres</th>\n",
       "      <td>0.0</td>\n",
       "    </tr>\n",
       "    <tr>\n",
       "      <th>te</th>\n",
       "      <td>0.0</td>\n",
       "    </tr>\n",
       "    <tr>\n",
       "      <th>tre</th>\n",
       "      <td>0.0</td>\n",
       "    </tr>\n",
       "    <tr>\n",
       "      <th>ve</th>\n",
       "      <td>0.0</td>\n",
       "    </tr>\n",
       "    <tr>\n",
       "      <th>vide</th>\n",
       "      <td>0.0</td>\n",
       "    </tr>\n",
       "    <tr>\n",
       "      <th>volt</th>\n",
       "      <td>0.0</td>\n",
       "    </tr>\n",
       "    <tr>\n",
       "      <th>maratonasalvin</th>\n",
       "      <td>0.0</td>\n",
       "    </tr>\n",
       "    <tr>\n",
       "      <th>leg</th>\n",
       "      <td>0.0</td>\n",
       "    </tr>\n",
       "    <tr>\n",
       "      <th>amic</th>\n",
       "      <td>0.0</td>\n",
       "    </tr>\n",
       "    <tr>\n",
       "      <th>dietr</th>\n",
       "      <td>0.0</td>\n",
       "    </tr>\n",
       "    <tr>\n",
       "      <th>andat</th>\n",
       "      <td>0.0</td>\n",
       "    </tr>\n",
       "    <tr>\n",
       "      <th>aspett</th>\n",
       "      <td>0.0</td>\n",
       "    </tr>\n",
       "    <tr>\n",
       "      <th>canal</th>\n",
       "      <td>0.0</td>\n",
       "    </tr>\n",
       "    <tr>\n",
       "      <th>cerc</th>\n",
       "      <td>0.0</td>\n",
       "    </tr>\n",
       "    <tr>\n",
       "      <th>commoss</th>\n",
       "      <td>0.0</td>\n",
       "    </tr>\n",
       "    <tr>\n",
       "      <th>contrib</th>\n",
       "      <td>0.0</td>\n",
       "    </tr>\n",
       "    <tr>\n",
       "      <th>decid</th>\n",
       "      <td>0.0</td>\n",
       "    </tr>\n",
       "    <tr>\n",
       "      <th>dett</th>\n",
       "      <td>0.0</td>\n",
       "    </tr>\n",
       "    <tr>\n",
       "      <th>dev</th>\n",
       "      <td>0.0</td>\n",
       "    </tr>\n",
       "    <tr>\n",
       "      <th>doman</th>\n",
       "      <td>0.0</td>\n",
       "    </tr>\n",
       "    <tr>\n",
       "      <th>interv</th>\n",
       "      <td>0.0</td>\n",
       "    </tr>\n",
       "    <tr>\n",
       "      <th>durant</th>\n",
       "      <td>0.0</td>\n",
       "    </tr>\n",
       "    <tr>\n",
       "      <th>esser</th>\n",
       "      <td>0.0</td>\n",
       "    </tr>\n",
       "    <tr>\n",
       "      <th>fa</th>\n",
       "      <td>0.0</td>\n",
       "    </tr>\n",
       "    <tr>\n",
       "      <th>feder</th>\n",
       "      <td>0.0</td>\n",
       "    </tr>\n",
       "    <tr>\n",
       "      <th>figl</th>\n",
       "      <td>0.0</td>\n",
       "    </tr>\n",
       "    <tr>\n",
       "      <th>fors</th>\n",
       "      <td>0.0</td>\n",
       "    </tr>\n",
       "    <tr>\n",
       "      <th>giorn</th>\n",
       "      <td>0.0</td>\n",
       "    </tr>\n",
       "    <tr>\n",
       "      <th>guard</th>\n",
       "      <td>0.0</td>\n",
       "    </tr>\n",
       "    <tr>\n",
       "      <th>ier</th>\n",
       "      <td>0.0</td>\n",
       "    </tr>\n",
       "    <tr>\n",
       "      <th>vot</th>\n",
       "      <td>0.0</td>\n",
       "    </tr>\n",
       "  </tbody>\n",
       "</table>\n",
       "</div>"
      ],
      "text/plain": [
       "                tfidf\n",
       "domanivotoleg     1.0\n",
       "23                0.0\n",
       "liv               0.0\n",
       "me                0.0\n",
       "molt              0.0\n",
       "nascond           0.0\n",
       "po                0.0\n",
       "prim              0.0\n",
       "priorit           0.0\n",
       "propr             0.0\n",
       "qualc             0.0\n",
       "quint             0.0\n",
       "ripropong         0.0\n",
       "riserv            0.0\n",
       "scegl             0.0\n",
       "sincer            0.0\n",
       "social            0.0\n",
       "sorpres           0.0\n",
       "te                0.0\n",
       "tre               0.0\n",
       "ve                0.0\n",
       "vide              0.0\n",
       "volt              0.0\n",
       "maratonasalvin    0.0\n",
       "leg               0.0\n",
       "amic              0.0\n",
       "dietr             0.0\n",
       "andat             0.0\n",
       "aspett            0.0\n",
       "canal             0.0\n",
       "cerc              0.0\n",
       "commoss           0.0\n",
       "contrib           0.0\n",
       "decid             0.0\n",
       "dett              0.0\n",
       "dev               0.0\n",
       "doman             0.0\n",
       "interv            0.0\n",
       "durant            0.0\n",
       "esser             0.0\n",
       "fa                0.0\n",
       "feder             0.0\n",
       "figl              0.0\n",
       "fors              0.0\n",
       "giorn             0.0\n",
       "guard             0.0\n",
       "ier               0.0\n",
       "vot               0.0"
      ]
     },
     "execution_count": 28,
     "metadata": {},
     "output_type": "execute_result"
    }
   ],
   "source": [
    "test_docs = [' '.join(tweet) for tweet in stemmed_data[\"salvini\"][0:5]]\n",
    "\n",
    "#   tf–idf\n",
    "tfidf_vectorizer = TfidfVectorizer()\n",
    "X_tfidf = tfidf_vectorizer.fit_transform(test_docs)\n",
    "# Convert to standard matrix\n",
    "X_tfidf.toarray()\n",
    "\n",
    "\n",
    "# get the first vector out (for the first document) \n",
    "first_vector_tfidf=X_tfidf[0] \n",
    " \n",
    "# place tf-idf values in a pandas data frame \n",
    "df = pd.DataFrame(first_vector_tfidf.T.todense()\n",
    "                    , index=tfidf_vectorizer.get_feature_names()\n",
    "                    , columns=[\"tfidf\"]) \n",
    "\n",
    "df.sort_values(by=[\"tfidf\"], ascending=False)"
   ]
  },
  {
   "cell_type": "code",
   "execution_count": 29,
   "metadata": {},
   "outputs": [
    {
     "data": {
      "text/plain": [
       "array([[-0.5       , -0.5       , -0.5       , -0.5       , -0.5       ,\n",
       "        -0.5       , -0.5       , -0.5       , -0.5       , -0.80030459,\n",
       "        -0.5       , -0.5       , -0.79602805,  1.91411158, -0.5       ,\n",
       "        -0.5       , -0.5       , -0.5       , -0.5       , -0.5       ,\n",
       "        -0.5       , -0.5       , -0.5       , -0.5       , -0.79602805,\n",
       "        -0.5       , -0.5       , -0.5       , -0.5       , -0.5       ,\n",
       "        -0.5       , -0.5       , -0.5       , -0.5       , -0.5       ,\n",
       "        -0.5       , -0.5       , -0.5       , -0.5       , -0.5       ,\n",
       "        -0.5       , -0.80030459, -0.5       , -0.5       , -0.5       ,\n",
       "        -0.5       , -0.5       , -0.79602805],\n",
       "       [-0.5       , -0.5       , -0.5       ,  2.        , -0.5       ,\n",
       "         2.        ,  2.        , -0.5       , -0.5       ,  0.88713258,\n",
       "         2.        , -0.5       ,  0.84222885, -0.79815899, -0.5       ,\n",
       "         2.        , -0.5       ,  2.        ,  2.        ,  2.        ,\n",
       "        -0.5       , -0.5       , -0.5       , -0.5       ,  0.84222885,\n",
       "        -0.5       , -0.5       ,  2.        ,  2.        ,  2.        ,\n",
       "         2.        ,  2.        , -0.5       ,  2.        , -0.5       ,\n",
       "        -0.5       , -0.5       ,  2.        ,  2.        ,  2.        ,\n",
       "        -0.5       ,  0.88713258, -0.5       , -0.5       , -0.5       ,\n",
       "        -0.5       ,  2.        ,  0.84222885],\n",
       "       [-0.5       , -0.5       , -0.5       , -0.5       ,  2.        ,\n",
       "        -0.5       , -0.5       ,  2.        , -0.5       ,  1.51378119,\n",
       "        -0.5       ,  2.        , -0.79602805, -0.79815899,  2.        ,\n",
       "        -0.5       , -0.5       , -0.5       , -0.5       , -0.5       ,\n",
       "        -0.5       , -0.5       ,  2.        , -0.5       , -0.79602805,\n",
       "         2.        ,  2.        , -0.5       , -0.5       , -0.5       ,\n",
       "        -0.5       , -0.5       , -0.5       , -0.5       , -0.5       ,\n",
       "         2.        , -0.5       , -0.5       , -0.5       , -0.5       ,\n",
       "         2.        ,  1.51378119,  2.        , -0.5       , -0.5       ,\n",
       "        -0.5       , -0.5       , -0.79602805],\n",
       "       [-0.5       , -0.5       , -0.5       , -0.5       , -0.5       ,\n",
       "        -0.5       , -0.5       , -0.5       , -0.5       , -0.80030459,\n",
       "        -0.5       , -0.5       , -0.79602805, -0.08285433, -0.5       ,\n",
       "        -0.5       ,  2.        , -0.5       , -0.5       , -0.5       ,\n",
       "         2.        , -0.5       , -0.5       ,  2.        , -0.79602805,\n",
       "        -0.5       , -0.5       , -0.5       , -0.5       , -0.5       ,\n",
       "        -0.5       , -0.5       , -0.5       , -0.5       ,  2.        ,\n",
       "        -0.5       ,  2.        , -0.5       , -0.5       , -0.5       ,\n",
       "        -0.5       , -0.80030459, -0.5       , -0.5       ,  2.        ,\n",
       "        -0.5       , -0.5       , -0.79602805],\n",
       "       [ 2.        ,  2.        ,  2.        , -0.5       , -0.5       ,\n",
       "        -0.5       , -0.5       , -0.5       ,  2.        , -0.80030459,\n",
       "        -0.5       , -0.5       ,  1.54585529, -0.23493927, -0.5       ,\n",
       "        -0.5       , -0.5       , -0.5       , -0.5       , -0.5       ,\n",
       "        -0.5       ,  2.        , -0.5       , -0.5       ,  1.54585529,\n",
       "        -0.5       , -0.5       , -0.5       , -0.5       , -0.5       ,\n",
       "        -0.5       , -0.5       ,  2.        , -0.5       , -0.5       ,\n",
       "        -0.5       , -0.5       , -0.5       , -0.5       , -0.5       ,\n",
       "        -0.5       , -0.80030459, -0.5       ,  2.        , -0.5       ,\n",
       "         2.        , -0.5       ,  1.54585529]])"
      ]
     },
     "execution_count": 29,
     "metadata": {},
     "output_type": "execute_result"
    }
   ],
   "source": [
    "# Standardization of datasets is a common requirement for many machine learning estimators implemented in scikit-learn; they might behave badly if the individual features do not more or less look like standard normally distributed data: Gaussian with zero mean and unit variance.\n",
    "\n",
    "scaler = StandardScaler()\n",
    "stand_X_tfidf = scaler.fit_transform(X_tfidf.toarray())\n",
    "stand_X_tfidf"
   ]
  },
  {
   "cell_type": "code",
   "execution_count": 30,
   "metadata": {},
   "outputs": [
    {
     "data": {
      "image/png": "[encoded data removed]",
      "text/plain": [
       "<Figure size 640x480 with 1 Axes>"
      ]
     },
     "metadata": {},
     "output_type": "display_data"
    }
   ],
   "source": [
    "pca = PCA().fit(stand_X_tfidf)\n",
    "nc  = list(range(1,1+len(pca.explained_variance_ratio_)))\n",
    "ev  = np.cumsum(pca.explained_variance_ratio_)\n",
    "\n",
    "#print(f'number of components: {nc}')\n",
    "#print(f'cumulative explained variance: {ev}')\n",
    "\n",
    "plt.plot(nc, ev)\n",
    "plt.xlabel('number of components')\n",
    "plt.ylabel('cumulative explained variance')\n",
    "plt.show()"
   ]
  },
  {
   "cell_type": "code",
   "execution_count": 31,
   "metadata": {},
   "outputs": [
    {
     "data": {
      "text/html": [
       "<div>\n",
       "<style scoped>\n",
       "    .dataframe tbody tr th:only-of-type {\n",
       "        vertical-align: middle;\n",
       "    }\n",
       "\n",
       "    .dataframe tbody tr th {\n",
       "        vertical-align: top;\n",
       "    }\n",
       "\n",
       "    .dataframe thead th {\n",
       "        text-align: right;\n",
       "    }\n",
       "</style>\n",
       "<table border=\"1\" class=\"dataframe\">\n",
       "  <thead>\n",
       "    <tr style=\"text-align: right;\">\n",
       "      <th></th>\n",
       "      <th>pc1</th>\n",
       "      <th>pc2</th>\n",
       "    </tr>\n",
       "  </thead>\n",
       "  <tbody>\n",
       "    <tr>\n",
       "      <th>0</th>\n",
       "      <td>-1.769303</td>\n",
       "      <td>-0.558387</td>\n",
       "    </tr>\n",
       "    <tr>\n",
       "      <th>1</th>\n",
       "      <td>9.044332</td>\n",
       "      <td>0.702198</td>\n",
       "    </tr>\n",
       "    <tr>\n",
       "      <th>2</th>\n",
       "      <td>-3.035786</td>\n",
       "      <td>6.208961</td>\n",
       "    </tr>\n",
       "    <tr>\n",
       "      <th>3</th>\n",
       "      <td>-2.545497</td>\n",
       "      <td>-0.880802</td>\n",
       "    </tr>\n",
       "    <tr>\n",
       "      <th>4</th>\n",
       "      <td>-1.693746</td>\n",
       "      <td>-5.471970</td>\n",
       "    </tr>\n",
       "  </tbody>\n",
       "</table>\n",
       "</div>"
      ],
      "text/plain": [
       "        pc1       pc2\n",
       "0 -1.769303 -0.558387\n",
       "1  9.044332  0.702198\n",
       "2 -3.035786  6.208961\n",
       "3 -2.545497 -0.880802\n",
       "4 -1.693746 -5.471970"
      ]
     },
     "execution_count": 31,
     "metadata": {},
     "output_type": "execute_result"
    }
   ],
   "source": [
    "# Keep only the first 2 components\n",
    "pca = PCA(n_components = 2)\n",
    "\n",
    "# Fit PCA and transform the data in the new coordinates\n",
    "X_pca = pca.fit_transform(stand_X_tfidf)\n",
    "\n",
    "# term-document matrix in the new coordinates\n",
    "X_pca = pd.DataFrame(data = X_pca, columns = ['pc1', 'pc2'])\n",
    "X_pca"
   ]
  },
  {
   "cell_type": "code",
   "execution_count": 32,
   "metadata": {},
   "outputs": [
    {
     "data": {
      "text/plain": [
       "['#domanivotoleg',\n",
       " 'sorpres dev esser sincer commoss cerc nascond po figl feder molt riserv me propr aspett p s doman vot prim volt dett “ fors ” scegl leg 🥲 2/2',\n",
       " 'ier durant #maratonasalvin liv canal social dett dietr quint “ contrib sorpres te ” 1/2',\n",
       " 'interv qualc giorn fa ve ripropong #domanivotoleg',\n",
       " 'tre priorit leg guard vide amic doman decid 7 23 andat vot #domanivotoleg 💪']"
      ]
     },
     "execution_count": 32,
     "metadata": {},
     "output_type": "execute_result"
    }
   ],
   "source": [
    "test_docs"
   ]
  },
  {
   "cell_type": "code",
   "execution_count": 33,
   "metadata": {},
   "outputs": [
    {
     "data": {
      "image/png": "[encoded data removed]",
      "text/plain": [
       "<Figure size 640x480 with 1 Axes>"
      ]
     },
     "metadata": {},
     "output_type": "display_data"
    }
   ],
   "source": [
    "X_pca.plot(kind = 'scatter', x = 'pc1', y = 'pc2', color = ['red','blue','green','orange', 'purple'])\n",
    "plt.show()"
   ]
  },
  {
   "cell_type": "code",
   "execution_count": null,
   "metadata": {},
   "outputs": [],
   "source": [
    "cleaned_tweet = list()\n",
    "\n",
    "for tweet in filtered_data[\"bonino\"]:\n",
    "    cleaned_tweet.append([tweet, tokenize(tweet)])\n",
    "\n",
    "pd.DataFrame(cleaned_tweet).to_csv(\"TBD/test.csv\")"
   ]
  },
  {
   "cell_type": "markdown",
   "metadata": {},
   "source": [
    "## IS SPACY USEFUL?"
   ]
  },
  {
   "cell_type": "code",
   "execution_count": 79,
   "metadata": {},
   "outputs": [],
   "source": [
    "# Punctuation cleaning\n",
    "\n",
    "nlp = spacy.load(\"it_core_news_lg\")\n",
    "\n",
    "corpus = dict()\n",
    "for politician in POLITICIANS:\n",
    "    corpus[politician] = []\n",
    "    for tweet in date_filtered_data[politician]:\n",
    "        for sentence in nlp(tweet).sents:\n",
    "            # TODO add readibility/ do better\n",
    "            sentence_text_w_placeholder = re.sub('\\+Europa', 'SPECIFICPOLITICALPARTYPLACEHOLDER', sentence.text, flags=re.IGNORECASE)\n",
    "            cleaned_sentence_text = \"\".join([x for x in sentence_text_w_placeholder if x not in punctuation and x not in digits])\n",
    "            corpus[politician].append(re.sub('SPECIFICPOLITICALPARTYPLACEHOLDER', '+Europa', cleaned_sentence_text))"
   ]
  },
  {
   "cell_type": "code",
   "execution_count": 97,
   "metadata": {},
   "outputs": [
    {
     "name": "stderr",
     "output_type": "stream",
     "text": [
      "/Users/teo/Documents/unimi/how-politician-change-their-mind/.venv/lib/python3.8/site-packages/sklearn/utils/deprecation.py:87: FutureWarning: Function get_feature_names is deprecated; get_feature_names is deprecated in 1.0 and will be removed in 1.2. Please use get_feature_names_out instead.\n",
      "  warnings.warn(msg, category=FutureWarning)\n"
     ]
    }
   ],
   "source": [
    "# Tokenization, Lemmatization, StopWords Remover\n",
    "\n",
    "tokenize = lambda text: [x.lemma_.lower() for x in nlp(text) if x.pos_ in ['NOUN', 'PROPN']]\n",
    "vectorizer = CountVectorizer(tokenizer=tokenize)\n",
    "X = vectorizer.fit_transform(corpus[\"salvini\"])\n",
    "Xa = pd.DataFrame(X.toarray(), columns=vectorizer.get_feature_names())"
   ]
  },
  {
   "cell_type": "code",
   "execution_count": 106,
   "metadata": {},
   "outputs": [
    {
     "name": "stdout",
     "output_type": "stream",
     "text": [
      "settembrevotolega    197\n",
      "lega                 181\n",
      "settembre            148\n",
      "italiano              96\n",
      "italia                90\n",
      "                    ... \n",
      "intelligenza           1\n",
      "insicurezza            1\n",
      "insetto                1\n",
      "insegnamento           1\n",
      "🥲                      1\n",
      "Length: 1896, dtype: int64\n"
     ]
    }
   ],
   "source": [
    "Xa.sum().sort_values(ascending=False)"
   ]
  },
  {
   "cell_type": "code",
   "execution_count": 107,
   "metadata": {},
   "outputs": [
    {
     "name": "stderr",
     "output_type": "stream",
     "text": [
      "/Users/teo/Documents/unimi/how-politician-change-their-mind/.venv/lib/python3.8/site-packages/sklearn/utils/deprecation.py:87: FutureWarning: Function get_feature_names is deprecated; get_feature_names is deprecated in 1.0 and will be removed in 1.2. Please use get_feature_names_out instead.\n",
      "  warnings.warn(msg, category=FutureWarning)\n"
     ]
    }
   ],
   "source": [
    "tokenize = lambda text: [x.lemma_.lower() for x in nlp(text) if x.pos_ in ['NOUN', 'PROPN']]\n",
    "vectorizer = CountVectorizer(tokenizer=tokenize)\n",
    "X = vectorizer.fit_transform(corpus[\"calenda\"])\n",
    "Xa = pd.DataFrame(X.toarray(), columns=vectorizer.get_feature_names())"
   ]
  },
  {
   "cell_type": "code",
   "execution_count": 108,
   "metadata": {},
   "outputs": [
    {
     "data": {
      "text/plain": [
       "drago       137\n",
       "paese       123\n",
       "italia      106\n",
       "pd          106\n",
       "governo     103\n",
       "           ... \n",
       "opinione      1\n",
       "opificio      1\n",
       "distanza      1\n",
       "operaio       1\n",
       "a             1\n",
       "Length: 2408, dtype: int64"
      ]
     },
     "execution_count": 108,
     "metadata": {},
     "output_type": "execute_result"
    }
   ],
   "source": [
    "Xa.sum().sort_values(ascending=False)"
   ]
  },
  {
   "cell_type": "code",
   "execution_count": 109,
   "metadata": {},
   "outputs": [
    {
     "name": "stderr",
     "output_type": "stream",
     "text": [
      "/Users/teo/Documents/unimi/how-politician-change-their-mind/.venv/lib/python3.8/site-packages/sklearn/utils/deprecation.py:87: FutureWarning: Function get_feature_names is deprecated; get_feature_names is deprecated in 1.0 and will be removed in 1.2. Please use get_feature_names_out instead.\n",
      "  warnings.warn(msg, category=FutureWarning)\n"
     ]
    },
    {
     "data": {
      "text/plain": [
       "secondo      17\n",
       "drago        16\n",
       "campagna     16\n",
       "settembre    14\n",
       "melone       14\n",
       "             ..\n",
       "giugno        1\n",
       "giovedì       1\n",
       "giovane       1\n",
       "giorgia       1\n",
       "♂             1\n",
       "Length: 542, dtype: int64"
      ]
     },
     "execution_count": 109,
     "metadata": {},
     "output_type": "execute_result"
    }
   ],
   "source": [
    "tokenize = lambda text: [x.lemma_.lower() for x in nlp(text) if x.pos_ in ['NOUN', 'PROPN']]\n",
    "vectorizer = CountVectorizer(tokenizer=tokenize)\n",
    "X = vectorizer.fit_transform(corpus[\"renzi\"])\n",
    "Xa = pd.DataFrame(X.toarray(), columns=vectorizer.get_feature_names())\n",
    "Xa.sum().sort_values(ascending=False)"
   ]
  },
  {
   "cell_type": "code",
   "execution_count": 110,
   "metadata": {},
   "outputs": [
    {
     "name": "stderr",
     "output_type": "stream",
     "text": [
      "/Users/teo/Documents/unimi/how-politician-change-their-mind/.venv/lib/python3.8/site-packages/sklearn/utils/deprecation.py:87: FutureWarning: Function get_feature_names is deprecated; get_feature_names is deprecated in 1.0 and will be removed in 1.2. Please use get_feature_names_out instead.\n",
      "  warnings.warn(msg, category=FutureWarning)\n"
     ]
    },
    {
     "data": {
      "text/plain": [
       "sera          58\n",
       "intervista    58\n",
       "movstelle     56\n",
       "grazie        40\n",
       "diretta       32\n",
       "              ..\n",
       "lisola         2\n",
       "linteresse     2\n",
       "linea          2\n",
       "limpegno       2\n",
       "📺              2\n",
       "Length: 672, dtype: int64"
      ]
     },
     "execution_count": 110,
     "metadata": {},
     "output_type": "execute_result"
    }
   ],
   "source": [
    "tokenize = lambda text: [x.lemma_.lower() for x in nlp(text) if x.pos_ in ['NOUN', 'PROPN']]\n",
    "vectorizer = CountVectorizer(tokenizer=tokenize)\n",
    "X = vectorizer.fit_transform(corpus[\"conte\"])\n",
    "Xa = pd.DataFrame(X.toarray(), columns=vectorizer.get_feature_names())\n",
    "Xa.sum().sort_values(ascending=False)"
   ]
  },
  {
   "cell_type": "code",
   "execution_count": null,
   "metadata": {},
   "outputs": [],
   "source": [
    "def clean_data(corpus: list):\n",
    "    # TODO\n",
    "    return corpus"
   ]
  },
  {
   "cell_type": "markdown",
   "metadata": {},
   "source": [
    "## Clean data"
   ]
  },
  {
   "cell_type": "code",
   "execution_count": null,
   "metadata": {},
   "outputs": [],
   "source": [
    "out_data = clean_data(input_data)"
   ]
  }
 ],
 "metadata": {
  "kernelspec": {
   "display_name": "Python 3.9.6 ('.venv': venv)",
   "language": "python",
   "name": "python3"
  },
  "language_info": {
   "codemirror_mode": {
    "name": "ipython",
    "version": 3
   },
   "file_extension": ".py",
   "mimetype": "text/x-python",
   "name": "python",
   "nbconvert_exporter": "python",
   "pygments_lexer": "ipython3",
   "version": "3.9.6"
  },
  "orig_nbformat": 4,
  "vscode": {
   "interpreter": {
    "hash": "5c492f626531da2c8d565f176d5e61f8c6f6c04c28e91cb703c426fba7ae0b62"
   }
  }
 },
 "nbformat": 4,
 "nbformat_minor": 2
}
