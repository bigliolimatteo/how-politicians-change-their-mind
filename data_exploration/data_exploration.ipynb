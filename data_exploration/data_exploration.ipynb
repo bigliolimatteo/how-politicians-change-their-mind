{
 "cells": [
  {
   "cell_type": "code",
   "execution_count": 1,
   "metadata": {},
   "outputs": [],
   "source": [
    "import pandas as pd\n",
    "import numpy as np\n",
    "import json\n",
    "import os\n",
    "import matplotlib.pyplot as plt\n",
    "from matplotlib.pyplot import figure"
   ]
  },
  {
   "cell_type": "code",
   "execution_count": 16,
   "metadata": {},
   "outputs": [],
   "source": [
    "def read_data(input_directory: str):\n",
    "    input_data, politicians_data = dict(), dict()\n",
    "\n",
    "    for filename in os.listdir(input_directory):\n",
    "        if filename.endswith(\"json\"):\n",
    "            politician_name = filename.split(\".\")[0]\n",
    "\n",
    "            file_location = os.path.join(input_directory, filename)\n",
    "            data = json.load(open(file_location, \"r\"))\n",
    "            \n",
    "            input_data[politician_name] = data[\"tweets\"]\n",
    "            politicians_data[politician_name] = data[\"user_data\"]\n",
    "            \n",
    "        else: \n",
    "            raise Exception(f\"Input file {filename} has a non supported format.\")\n",
    "    return input_data, politicians_data"
   ]
  },
  {
   "cell_type": "code",
   "execution_count": 17,
   "metadata": {},
   "outputs": [],
   "source": [
    "tweets_data, politicians_data = read_data(\"data\")"
   ]
  },
  {
   "cell_type": "code",
   "execution_count": 30,
   "metadata": {},
   "outputs": [],
   "source": [
    "def histogram(ticks, values, title=\"\"):\n",
    "    figure(figsize=(15, 10), dpi=100)\n",
    "    x = np.arange(len(ticks))\n",
    "    plt.bar(x, height=values)\n",
    "    plt.xticks(x, ticks)\n",
    "    plt.title(title)\n",
    "    plt.show()"
   ]
  },
  {
   "cell_type": "code",
   "execution_count": 36,
   "metadata": {},
   "outputs": [],
   "source": [
    "politicians = list()\n",
    "followers_count = list()\n",
    "following_count = list()\n",
    "tweet_count = list()\n",
    "listed_count = list()\n",
    "created_at = list()\n",
    "\n",
    "for politician in politicians_data.keys():\n",
    "    politicians.append(politician)\n",
    "\n",
    "    public_metrics = politicians_data[politician][\"public_metrics\"]\n",
    "    followers_count.append(public_metrics[\"followers_count\"])\n",
    "    following_count.append(public_metrics[\"following_count\"])\n",
    "    tweet_count.append(public_metrics[\"tweet_count\"])\n",
    "    listed_count.append(public_metrics[\"listed_count\"])\n",
    "    \n",
    "    created_at.append(politicians_data[politician][\"created_at\"])\n"
   ]
  },
  {
   "cell_type": "code",
   "execution_count": 40,
   "metadata": {},
   "outputs": [],
   "source": [
    "#pd.DataFrame([politicians, created_at]).T"
   ]
  },
  {
   "cell_type": "code",
   "execution_count": null,
   "metadata": {},
   "outputs": [],
   "source": [
    "#histogram(politicians, followers_count, \"Followers Count\")\n",
    "#histogram(politicians, following_count, \"Following Count\")\n",
    "#histogram(politicians, tweet_count, \"Tweet Count\")\n",
    "#histogram(politicians, listed_count, \"Listed Count\")"
   ]
  },
  {
   "cell_type": "code",
   "execution_count": 51,
   "metadata": {},
   "outputs": [],
   "source": [
    "from datetime import datetime\n",
    "\n",
    "# TODO create a pipeline funciton to use in pandas distributed-wise\n",
    "def date_filter(tweet: dict, start_date = datetime(2022,7,22), end_date = datetime(2022,9,25)):\n",
    "    created_at = datetime.strptime(tweet['created_at'], \"%Y-%m-%dT%H:%M:%S.%fZ\")\n",
    "    return created_at >= start_date and created_at < end_date\n",
    "\n",
    "def is_retweet(tweet: dict):\n",
    "    return tweet[\"text\"].startswith(\"RT @\")\n",
    "\n",
    "def preclean_tweet(tweet: dict):\n",
    "    if date_filter(tweet) and not is_retweet(tweet):\n",
    "        return tweet\n",
    "    else:\n",
    "        return \"\"\n",
    "\n",
    "POLITICIANS = list(tweets_data.keys())\n",
    "filtered_data = {politician: list(filter(None, [preclean_tweet(tweet) for tweet in tweets_data[politician]])) for politician in POLITICIANS}"
   ]
  },
  {
   "cell_type": "code",
   "execution_count": 65,
   "metadata": {},
   "outputs": [],
   "source": [
    "retweet_count = dict()\n",
    "reply_count = dict()\n",
    "like_count = dict()\n",
    "quote_count = dict()\n",
    "created_at = dict()\n",
    "\n",
    "DATETIME_FORMAT = '%Y-%m-%dT%H:%M:%S.%fZ'\n",
    "\n",
    "for politician in politicians:\n",
    "    filtered_data[politician]\n",
    "\n",
    "    retweet_count[politician] = [tweet[\"public_metrics\"][\"retweet_count\"] for tweet in filtered_data[politician]]\n",
    "    reply_count[politician] = [tweet[\"public_metrics\"][\"reply_count\"] for tweet in filtered_data[politician]]\n",
    "    like_count[politician] = [tweet[\"public_metrics\"][\"like_count\"] for tweet in filtered_data[politician]]\n",
    "    quote_count[politician] = [tweet[\"public_metrics\"][\"quote_count\"] for tweet in filtered_data[politician]]\n",
    "    created_at[politician] = [datetime.strptime(tweet[\"created_at\"], DATETIME_FORMAT).date() for tweet in filtered_data[politician]]"
   ]
  },
  {
   "cell_type": "code",
   "execution_count": 53,
   "metadata": {},
   "outputs": [],
   "source": [
    "def multi_boxplot(dictionary, title=\"\"):\n",
    "    fig, ax = plt.subplots(figsize=(15, 10))\n",
    "    ax.boxplot(dictionary.values())\n",
    "    ax.set_xticklabels(dictionary.keys())\n",
    "    plt.title(title)\n",
    "    plt.show()\n"
   ]
  },
  {
   "cell_type": "code",
   "execution_count": 56,
   "metadata": {},
   "outputs": [],
   "source": [
    "#multi_boxplot(retweet_count, \"Retweet Count\")\n",
    "#multi_boxplot(reply_count, \"Reply Count\")\n",
    "#multi_boxplot(like_count, \"Like Count\")\n",
    "#multi_boxplot(quote_count, \"Quote Count\")"
   ]
  },
  {
   "cell_type": "code",
   "execution_count": 69,
   "metadata": {},
   "outputs": [],
   "source": [
    "time_series = dict()\n",
    "\n",
    "for politician in politicians:\n",
    "\n",
    "    time_series[politician] = {date: created_at[politician].count(date) for date in set(created_at[politician])}"
   ]
  },
  {
   "cell_type": "code",
   "execution_count": 93,
   "metadata": {},
   "outputs": [],
   "source": [
    "def tweets_time_series(time_series_dicts, title=\"\"):\n",
    "    \n",
    "    fig, ax = plt.subplots(figsize=(15, 10))\n",
    "\n",
    "    for politician in time_series_dicts.keys():\n",
    "        data = sorted(list(time_series_dicts[politician].items()), key=lambda x: x[0])\n",
    "        x = np.array([i[0] for i in data])\n",
    "        y = [i[1] for i in data]\n",
    "        plt.plot(x,y, label = politician)\n",
    "    plt.title(title)\n",
    "    plt.legend()\n",
    "\n",
    "    plt.show()"
   ]
  },
  {
   "cell_type": "code",
   "execution_count": 97,
   "metadata": {},
   "outputs": [],
   "source": [
    "RIGHT_WING_POLITICIANS = ['salvini', 'meloni', 'berlusconi']\n",
    "LEFT_WING_POLITICIANS = ['bonino','dimaio', 'renzi', 'calenda', 'letta', 'conte']\n",
    "\n",
    "#tweets_time_series({ key: time_series[key] for key in RIGHT_WING_POLITICIANS }, \"Time Series - Right Wing\")\n",
    "#tweets_time_series({ key: time_series[key] for key in LEFT_WING_POLITICIANS }, \"Time Series - Left Wing\")"
   ]
  },
  {
   "cell_type": "code",
   "execution_count": null,
   "metadata": {},
   "outputs": [],
   "source": []
  }
 ],
 "metadata": {
  "kernelspec": {
   "display_name": "Python 3.9.2 ('.venv': venv)",
   "language": "python",
   "name": "python3"
  },
  "language_info": {
   "codemirror_mode": {
    "name": "ipython",
    "version": 3
   },
   "file_extension": ".py",
   "mimetype": "text/x-python",
   "name": "python",
   "nbconvert_exporter": "python",
   "pygments_lexer": "ipython3",
   "version": "3.9.2"
  },
  "orig_nbformat": 4,
  "vscode": {
   "interpreter": {
    "hash": "9eaf728c2940a6692d2e7d7e6ce72533e60deae695939243e176787cb5691bda"
   }
  }
 },
 "nbformat": 4,
 "nbformat_minor": 2
}
